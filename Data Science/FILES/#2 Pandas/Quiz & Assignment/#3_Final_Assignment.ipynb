{
 "cells": [
  {
   "cell_type": "markdown",
   "metadata": {},
   "source": [
    "---\n",
    "# _Introduction to Pandas_\n",
    "## _Date: 29 Sep_\n",
    "---"
   ]
  },
  {
   "cell_type": "markdown",
   "metadata": {
    "id": "Gvll069tUh4v"
   },
   "source": [
    "## Overview\n",
    "\n",
    "Dear Learner, \n",
    "\n",
    "Congratulations, you have studied Pandas all the way through the end of this bootcamp!!! This is the final graded hands-on exercise where you will be accomplishing the below mentioned task.\n",
    "\n",
    "For the tasks, we'll be using the COVID-19 Data Repository by the Center for Systems Science and Engineering (CSSE) at Johns Hopkins University. You can find the orginal dataset here: https://github.com/CSSEGISandData/COVID-19\n",
    "\n",
    "\n",
    "**Dataset Link**: https://raw.githubusercontent.com/dphi-official/Datasets/master/covid_19_data.csv\n",
    "\n",
    "**Resources**: You may consider referring to this resource while solving this project: https://www.learndatasci.com/tutorials/python-pandas-tutorial-complete-introduction-for-beginners/\n",
    "\n"
   ]
  },
  {
   "cell_type": "markdown",
   "metadata": {
    "id": "dvPOOlTFeejl"
   },
   "source": [
    "**Information about the dataset:**\n",
    "\n",
    "There are 8 features:\n",
    "\n",
    "* SNo: Serial number\n",
    "* ObservationDate: Date of observation of the cases (format: MM/DD/YYYY)\n",
    "* Province/State: Province or State of the country where cases were observed\n",
    "* Country/Region: Country where cases were observed\n",
    "* Last Update: Time in UTC at which the row is updated for the given province or country. (It is not in a standard format)\n",
    "* Confirmed: Cumulative number of confirmed cases till the date\n",
    "* Deaths: Cumulative number of deaths till the date\n",
    "* Recovered: Cumulative number of recovered cases till date"
   ]
  },
  {
   "cell_type": "markdown",
   "metadata": {
    "id": "A_JNx02DemVy"
   },
   "source": [
    "**Instruction for the learner:** \n",
    "* Recommended to revise 'groupby()' method of pandas\n",
    "* Recommended to understand the word **'Cummulative'** properly for three features - 'Confirmed', 'Recovered' and 'Deaths'.\n",
    "* Please note that the dtype of datetime columns are of object, convert them to datetime as shown below:"
   ]
  },
  {
   "cell_type": "code",
   "execution_count": 1,
   "metadata": {},
   "outputs": [],
   "source": [
    "# Importing Library\n",
    "import pandas as pd"
   ]
  },
  {
   "cell_type": "markdown",
   "metadata": {
    "id": "GejbyYGQUrpN"
   },
   "source": [
    "### **Task 1**\n",
    "\n",
    "* Read the dataset and name is as `df`\n",
    "* Print first 10 observations of the dataset\n",
    "* Check for the data types of the all the variables in the dataset\n",
    "* Convert columns ['ObservationDate'] and ['Last Update'] to from object to datatime data type.\n"
   ]
  },
  {
   "cell_type": "code",
   "execution_count": 2,
   "metadata": {},
   "outputs": [],
   "source": [
    "# Reading the dataset \n",
    "df = pd.read_csv('covid_19_data.csv')"
   ]
  },
  {
   "cell_type": "code",
   "execution_count": 3,
   "metadata": {},
   "outputs": [
    {
     "data": {
      "text/html": [
       "<div>\n",
       "<style scoped>\n",
       "    .dataframe tbody tr th:only-of-type {\n",
       "        vertical-align: middle;\n",
       "    }\n",
       "\n",
       "    .dataframe tbody tr th {\n",
       "        vertical-align: top;\n",
       "    }\n",
       "\n",
       "    .dataframe thead th {\n",
       "        text-align: right;\n",
       "    }\n",
       "</style>\n",
       "<table border=\"1\" class=\"dataframe\">\n",
       "  <thead>\n",
       "    <tr style=\"text-align: right;\">\n",
       "      <th></th>\n",
       "      <th>SNo</th>\n",
       "      <th>ObservationDate</th>\n",
       "      <th>Province/State</th>\n",
       "      <th>Country/Region</th>\n",
       "      <th>Last Update</th>\n",
       "      <th>Confirmed</th>\n",
       "      <th>Deaths</th>\n",
       "      <th>Recovered</th>\n",
       "    </tr>\n",
       "  </thead>\n",
       "  <tbody>\n",
       "    <tr>\n",
       "      <th>0</th>\n",
       "      <td>1</td>\n",
       "      <td>01/22/2020</td>\n",
       "      <td>Anhui</td>\n",
       "      <td>Mainland China</td>\n",
       "      <td>1/22/2020 17:00</td>\n",
       "      <td>1.0</td>\n",
       "      <td>0.0</td>\n",
       "      <td>0.0</td>\n",
       "    </tr>\n",
       "    <tr>\n",
       "      <th>1</th>\n",
       "      <td>2</td>\n",
       "      <td>01/22/2020</td>\n",
       "      <td>Beijing</td>\n",
       "      <td>Mainland China</td>\n",
       "      <td>1/22/2020 17:00</td>\n",
       "      <td>14.0</td>\n",
       "      <td>0.0</td>\n",
       "      <td>0.0</td>\n",
       "    </tr>\n",
       "    <tr>\n",
       "      <th>2</th>\n",
       "      <td>3</td>\n",
       "      <td>01/22/2020</td>\n",
       "      <td>Chongqing</td>\n",
       "      <td>Mainland China</td>\n",
       "      <td>1/22/2020 17:00</td>\n",
       "      <td>6.0</td>\n",
       "      <td>0.0</td>\n",
       "      <td>0.0</td>\n",
       "    </tr>\n",
       "    <tr>\n",
       "      <th>3</th>\n",
       "      <td>4</td>\n",
       "      <td>01/22/2020</td>\n",
       "      <td>Fujian</td>\n",
       "      <td>Mainland China</td>\n",
       "      <td>1/22/2020 17:00</td>\n",
       "      <td>1.0</td>\n",
       "      <td>0.0</td>\n",
       "      <td>0.0</td>\n",
       "    </tr>\n",
       "    <tr>\n",
       "      <th>4</th>\n",
       "      <td>5</td>\n",
       "      <td>01/22/2020</td>\n",
       "      <td>Gansu</td>\n",
       "      <td>Mainland China</td>\n",
       "      <td>1/22/2020 17:00</td>\n",
       "      <td>0.0</td>\n",
       "      <td>0.0</td>\n",
       "      <td>0.0</td>\n",
       "    </tr>\n",
       "    <tr>\n",
       "      <th>5</th>\n",
       "      <td>6</td>\n",
       "      <td>01/22/2020</td>\n",
       "      <td>Guangdong</td>\n",
       "      <td>Mainland China</td>\n",
       "      <td>1/22/2020 17:00</td>\n",
       "      <td>26.0</td>\n",
       "      <td>0.0</td>\n",
       "      <td>0.0</td>\n",
       "    </tr>\n",
       "    <tr>\n",
       "      <th>6</th>\n",
       "      <td>7</td>\n",
       "      <td>01/22/2020</td>\n",
       "      <td>Guangxi</td>\n",
       "      <td>Mainland China</td>\n",
       "      <td>1/22/2020 17:00</td>\n",
       "      <td>2.0</td>\n",
       "      <td>0.0</td>\n",
       "      <td>0.0</td>\n",
       "    </tr>\n",
       "    <tr>\n",
       "      <th>7</th>\n",
       "      <td>8</td>\n",
       "      <td>01/22/2020</td>\n",
       "      <td>Guizhou</td>\n",
       "      <td>Mainland China</td>\n",
       "      <td>1/22/2020 17:00</td>\n",
       "      <td>1.0</td>\n",
       "      <td>0.0</td>\n",
       "      <td>0.0</td>\n",
       "    </tr>\n",
       "    <tr>\n",
       "      <th>8</th>\n",
       "      <td>9</td>\n",
       "      <td>01/22/2020</td>\n",
       "      <td>Hainan</td>\n",
       "      <td>Mainland China</td>\n",
       "      <td>1/22/2020 17:00</td>\n",
       "      <td>4.0</td>\n",
       "      <td>0.0</td>\n",
       "      <td>0.0</td>\n",
       "    </tr>\n",
       "    <tr>\n",
       "      <th>9</th>\n",
       "      <td>10</td>\n",
       "      <td>01/22/2020</td>\n",
       "      <td>Hebei</td>\n",
       "      <td>Mainland China</td>\n",
       "      <td>1/22/2020 17:00</td>\n",
       "      <td>1.0</td>\n",
       "      <td>0.0</td>\n",
       "      <td>0.0</td>\n",
       "    </tr>\n",
       "  </tbody>\n",
       "</table>\n",
       "</div>"
      ],
      "text/plain": [
       "   SNo ObservationDate Province/State  Country/Region      Last Update  \\\n",
       "0    1      01/22/2020          Anhui  Mainland China  1/22/2020 17:00   \n",
       "1    2      01/22/2020        Beijing  Mainland China  1/22/2020 17:00   \n",
       "2    3      01/22/2020      Chongqing  Mainland China  1/22/2020 17:00   \n",
       "3    4      01/22/2020         Fujian  Mainland China  1/22/2020 17:00   \n",
       "4    5      01/22/2020          Gansu  Mainland China  1/22/2020 17:00   \n",
       "5    6      01/22/2020      Guangdong  Mainland China  1/22/2020 17:00   \n",
       "6    7      01/22/2020        Guangxi  Mainland China  1/22/2020 17:00   \n",
       "7    8      01/22/2020        Guizhou  Mainland China  1/22/2020 17:00   \n",
       "8    9      01/22/2020         Hainan  Mainland China  1/22/2020 17:00   \n",
       "9   10      01/22/2020          Hebei  Mainland China  1/22/2020 17:00   \n",
       "\n",
       "   Confirmed  Deaths  Recovered  \n",
       "0        1.0     0.0        0.0  \n",
       "1       14.0     0.0        0.0  \n",
       "2        6.0     0.0        0.0  \n",
       "3        1.0     0.0        0.0  \n",
       "4        0.0     0.0        0.0  \n",
       "5       26.0     0.0        0.0  \n",
       "6        2.0     0.0        0.0  \n",
       "7        1.0     0.0        0.0  \n",
       "8        4.0     0.0        0.0  \n",
       "9        1.0     0.0        0.0  "
      ]
     },
     "execution_count": 3,
     "metadata": {},
     "output_type": "execute_result"
    }
   ],
   "source": [
    "# First 10 observations\n",
    "df.head(10)"
   ]
  },
  {
   "cell_type": "code",
   "execution_count": 4,
   "metadata": {},
   "outputs": [
    {
     "data": {
      "text/plain": [
       "SNo                  int64\n",
       "ObservationDate     object\n",
       "Province/State      object\n",
       "Country/Region      object\n",
       "Last Update         object\n",
       "Confirmed          float64\n",
       "Deaths             float64\n",
       "Recovered          float64\n",
       "dtype: object"
      ]
     },
     "execution_count": 4,
     "metadata": {},
     "output_type": "execute_result"
    }
   ],
   "source": [
    "# data types of the all the variables\n",
    "df.dtypes"
   ]
  },
  {
   "cell_type": "code",
   "execution_count": 5,
   "metadata": {},
   "outputs": [
    {
     "data": {
      "text/plain": [
       "SNo                         int64\n",
       "ObservationDate    datetime64[ns]\n",
       "Province/State             object\n",
       "Country/Region             object\n",
       "Last Update        datetime64[ns]\n",
       "Confirmed                 float64\n",
       "Deaths                    float64\n",
       "Recovered                 float64\n",
       "dtype: object"
      ]
     },
     "execution_count": 5,
     "metadata": {},
     "output_type": "execute_result"
    }
   ],
   "source": [
    "# Converting 'ObservationDate' & 'Last Update' from object to datatime data type.\n",
    "df['ObservationDate'] = pd.to_datetime(df['ObservationDate'])\n",
    "df['Last Update'] = pd.to_datetime(df['Last Update'])\n",
    "df.dtypes"
   ]
  },
  {
   "cell_type": "markdown",
   "metadata": {},
   "source": [
    "---"
   ]
  },
  {
   "cell_type": "markdown",
   "metadata": {
    "id": "9JfuOyUAWA6e"
   },
   "source": [
    "### **Task 2**\n",
    "* Create a subset of the data `df`, only taking observations which was **last updated** on **2020-06-13 03:33:14** and name this dataframe as **updated_data**. \n",
    "* Print the total no. of observations and unique country records in **updated_data**\n"
   ]
  },
  {
   "cell_type": "code",
   "execution_count": 6,
   "metadata": {},
   "outputs": [
    {
     "data": {
      "text/html": [
       "<div>\n",
       "<style scoped>\n",
       "    .dataframe tbody tr th:only-of-type {\n",
       "        vertical-align: middle;\n",
       "    }\n",
       "\n",
       "    .dataframe tbody tr th {\n",
       "        vertical-align: top;\n",
       "    }\n",
       "\n",
       "    .dataframe thead th {\n",
       "        text-align: right;\n",
       "    }\n",
       "</style>\n",
       "<table border=\"1\" class=\"dataframe\">\n",
       "  <thead>\n",
       "    <tr style=\"text-align: right;\">\n",
       "      <th></th>\n",
       "      <th>SNo</th>\n",
       "      <th>ObservationDate</th>\n",
       "      <th>Province/State</th>\n",
       "      <th>Country/Region</th>\n",
       "      <th>Last Update</th>\n",
       "      <th>Confirmed</th>\n",
       "      <th>Deaths</th>\n",
       "      <th>Recovered</th>\n",
       "    </tr>\n",
       "  </thead>\n",
       "  <tbody>\n",
       "    <tr>\n",
       "      <th>0</th>\n",
       "      <td>40077</td>\n",
       "      <td>2020-06-12</td>\n",
       "      <td>NaN</td>\n",
       "      <td>Afghanistan</td>\n",
       "      <td>2020-06-13 03:33:14</td>\n",
       "      <td>23546.0</td>\n",
       "      <td>446.0</td>\n",
       "      <td>3928.0</td>\n",
       "    </tr>\n",
       "    <tr>\n",
       "      <th>1</th>\n",
       "      <td>40078</td>\n",
       "      <td>2020-06-12</td>\n",
       "      <td>NaN</td>\n",
       "      <td>Albania</td>\n",
       "      <td>2020-06-13 03:33:14</td>\n",
       "      <td>1416.0</td>\n",
       "      <td>36.0</td>\n",
       "      <td>1034.0</td>\n",
       "    </tr>\n",
       "    <tr>\n",
       "      <th>2</th>\n",
       "      <td>40079</td>\n",
       "      <td>2020-06-12</td>\n",
       "      <td>NaN</td>\n",
       "      <td>Algeria</td>\n",
       "      <td>2020-06-13 03:33:14</td>\n",
       "      <td>10698.0</td>\n",
       "      <td>751.0</td>\n",
       "      <td>7322.0</td>\n",
       "    </tr>\n",
       "    <tr>\n",
       "      <th>3</th>\n",
       "      <td>40080</td>\n",
       "      <td>2020-06-12</td>\n",
       "      <td>NaN</td>\n",
       "      <td>Andorra</td>\n",
       "      <td>2020-06-13 03:33:14</td>\n",
       "      <td>853.0</td>\n",
       "      <td>51.0</td>\n",
       "      <td>781.0</td>\n",
       "    </tr>\n",
       "    <tr>\n",
       "      <th>4</th>\n",
       "      <td>40081</td>\n",
       "      <td>2020-06-12</td>\n",
       "      <td>NaN</td>\n",
       "      <td>Angola</td>\n",
       "      <td>2020-06-13 03:33:14</td>\n",
       "      <td>130.0</td>\n",
       "      <td>5.0</td>\n",
       "      <td>42.0</td>\n",
       "    </tr>\n",
       "  </tbody>\n",
       "</table>\n",
       "</div>"
      ],
      "text/plain": [
       "     SNo ObservationDate Province/State Country/Region         Last Update  \\\n",
       "0  40077      2020-06-12            NaN    Afghanistan 2020-06-13 03:33:14   \n",
       "1  40078      2020-06-12            NaN        Albania 2020-06-13 03:33:14   \n",
       "2  40079      2020-06-12            NaN        Algeria 2020-06-13 03:33:14   \n",
       "3  40080      2020-06-12            NaN        Andorra 2020-06-13 03:33:14   \n",
       "4  40081      2020-06-12            NaN         Angola 2020-06-13 03:33:14   \n",
       "\n",
       "   Confirmed  Deaths  Recovered  \n",
       "0    23546.0   446.0     3928.0  \n",
       "1     1416.0    36.0     1034.0  \n",
       "2    10698.0   751.0     7322.0  \n",
       "3      853.0    51.0      781.0  \n",
       "4      130.0     5.0       42.0  "
      ]
     },
     "execution_count": 6,
     "metadata": {},
     "output_type": "execute_result"
    }
   ],
   "source": [
    "# updated_data: observations which was last updated on 2020-06-13 03:33:14\n",
    "updated_data = df[df['Last Update'] == '2020-06-13 03:33:14'].reset_index(drop=True)\n",
    "updated_data.head()"
   ]
  },
  {
   "cell_type": "code",
   "execution_count": 7,
   "metadata": {},
   "outputs": [
    {
     "name": "stdout",
     "output_type": "stream",
     "text": [
      "* Total No. of Observations: 729\n",
      "* Unique country records:\n"
     ]
    },
    {
     "data": {
      "text/plain": [
       "Russia      83\n",
       "US          58\n",
       "Japan       48\n",
       "India       36\n",
       "Colombia    34\n",
       "            ..\n",
       "Haiti        1\n",
       "Holy See     1\n",
       "Honduras     1\n",
       "Hungary      1\n",
       "Macau        1\n",
       "Name: Country/Region, Length: 190, dtype: int64"
      ]
     },
     "execution_count": 7,
     "metadata": {},
     "output_type": "execute_result"
    }
   ],
   "source": [
    "# total no. of observations and unique country records in updated_data\n",
    "print('* Total No. of Observations:', len(updated_data))\n",
    "print('* Unique country records:')\n",
    "updated_data['Country/Region'].value_counts()"
   ]
  },
  {
   "cell_type": "markdown",
   "metadata": {},
   "source": [
    "---"
   ]
  },
  {
   "cell_type": "markdown",
   "metadata": {
    "id": "Sdcu_ll4WRCz"
   },
   "source": [
    "### **Task 3**\n",
    "* Create a subset of data from the dataframe **updated_data**, only taking the top 10 countries which have the maximum number of confirmed cases with features - **'Country/Region', 'Confirmed', 'Deaths' and 'Recovered'**. Name this dataframe as 'top_10'\n",
    "\n",
    "* print the name of the countries in 'top_10' dataset\n",
    "* Which country has the lowest number of confirmed cases among the ten countries in top_10 dataframe?\n",
    "Hint: use groupby() to group all the observations with same country, sum all the observations and then sort the dataframe by confirmed cases."
   ]
  },
  {
   "cell_type": "code",
   "execution_count": 8,
   "metadata": {},
   "outputs": [
    {
     "data": {
      "text/html": [
       "<div>\n",
       "<style scoped>\n",
       "    .dataframe tbody tr th:only-of-type {\n",
       "        vertical-align: middle;\n",
       "    }\n",
       "\n",
       "    .dataframe tbody tr th {\n",
       "        vertical-align: top;\n",
       "    }\n",
       "\n",
       "    .dataframe thead th {\n",
       "        text-align: right;\n",
       "    }\n",
       "</style>\n",
       "<table border=\"1\" class=\"dataframe\">\n",
       "  <thead>\n",
       "    <tr style=\"text-align: right;\">\n",
       "      <th></th>\n",
       "      <th>Country/Region</th>\n",
       "      <th>Confirmed</th>\n",
       "      <th>Deaths</th>\n",
       "      <th>Recovered</th>\n",
       "    </tr>\n",
       "  </thead>\n",
       "  <tbody>\n",
       "    <tr>\n",
       "      <th>0</th>\n",
       "      <td>US</td>\n",
       "      <td>381714.0</td>\n",
       "      <td>30758.0</td>\n",
       "      <td>0.0</td>\n",
       "    </tr>\n",
       "    <tr>\n",
       "      <th>1</th>\n",
       "      <td>Russia</td>\n",
       "      <td>202935.0</td>\n",
       "      <td>3187.0</td>\n",
       "      <td>118024.0</td>\n",
       "    </tr>\n",
       "    <tr>\n",
       "      <th>2</th>\n",
       "      <td>France</td>\n",
       "      <td>188918.0</td>\n",
       "      <td>29315.0</td>\n",
       "      <td>69578.0</td>\n",
       "    </tr>\n",
       "    <tr>\n",
       "      <th>3</th>\n",
       "      <td>Iran</td>\n",
       "      <td>182525.0</td>\n",
       "      <td>8659.0</td>\n",
       "      <td>144649.0</td>\n",
       "    </tr>\n",
       "    <tr>\n",
       "      <th>4</th>\n",
       "      <td>Turkey</td>\n",
       "      <td>175218.0</td>\n",
       "      <td>4778.0</td>\n",
       "      <td>149102.0</td>\n",
       "    </tr>\n",
       "    <tr>\n",
       "      <th>5</th>\n",
       "      <td>Brazil</td>\n",
       "      <td>167900.0</td>\n",
       "      <td>10368.0</td>\n",
       "      <td>49295.0</td>\n",
       "    </tr>\n",
       "    <tr>\n",
       "      <th>6</th>\n",
       "      <td>US</td>\n",
       "      <td>166164.0</td>\n",
       "      <td>12489.0</td>\n",
       "      <td>0.0</td>\n",
       "    </tr>\n",
       "    <tr>\n",
       "      <th>7</th>\n",
       "      <td>UK</td>\n",
       "      <td>156410.0</td>\n",
       "      <td>37069.0</td>\n",
       "      <td>0.0</td>\n",
       "    </tr>\n",
       "    <tr>\n",
       "      <th>8</th>\n",
       "      <td>US</td>\n",
       "      <td>146659.0</td>\n",
       "      <td>4978.0</td>\n",
       "      <td>0.0</td>\n",
       "    </tr>\n",
       "    <tr>\n",
       "      <th>9</th>\n",
       "      <td>US</td>\n",
       "      <td>131198.0</td>\n",
       "      <td>6260.0</td>\n",
       "      <td>0.0</td>\n",
       "    </tr>\n",
       "  </tbody>\n",
       "</table>\n",
       "</div>"
      ],
      "text/plain": [
       "  Country/Region  Confirmed   Deaths  Recovered\n",
       "0             US   381714.0  30758.0        0.0\n",
       "1         Russia   202935.0   3187.0   118024.0\n",
       "2         France   188918.0  29315.0    69578.0\n",
       "3           Iran   182525.0   8659.0   144649.0\n",
       "4         Turkey   175218.0   4778.0   149102.0\n",
       "5         Brazil   167900.0  10368.0    49295.0\n",
       "6             US   166164.0  12489.0        0.0\n",
       "7             UK   156410.0  37069.0        0.0\n",
       "8             US   146659.0   4978.0        0.0\n",
       "9             US   131198.0   6260.0        0.0"
      ]
     },
     "execution_count": 8,
     "metadata": {},
     "output_type": "execute_result"
    }
   ],
   "source": [
    "# top_10: countries which have the maximum number of confirmed cases\n",
    "features = ['Country/Region', 'Confirmed', 'Deaths', 'Recovered']\n",
    "top_10 = updated_data[features].sort_values('Confirmed', ascending=False)[:10].reset_index(drop=True)\n",
    "top_10"
   ]
  },
  {
   "cell_type": "code",
   "execution_count": 9,
   "metadata": {},
   "outputs": [
    {
     "name": "stdout",
     "output_type": "stream",
     "text": [
      "Countries in 'top_10' dataset:\n",
      " ['US', 'Russia', 'France', 'Iran', 'Turkey', 'Brazil', 'UK']\n"
     ]
    }
   ],
   "source": [
    "# Name of the countries in 'top_10' dataset\n",
    "print(\"Countries in 'top_10' dataset:\\n\", list(top_10['Country/Region'].unique()))"
   ]
  },
  {
   "cell_type": "code",
   "execution_count": 10,
   "metadata": {},
   "outputs": [
    {
     "name": "stdout",
     "output_type": "stream",
     "text": [
      "'UK' has the lowest number of confirmed cases.\n"
     ]
    }
   ],
   "source": [
    "# for finding lowest number of confirmed cases among the ten countries\n",
    "lowest_confirmed = top_10.groupby('Country/Region').sum().sort_values('Confirmed').index[0]\n",
    "print(f\"'{lowest_confirmed}' has the lowest number of confirmed cases.\")"
   ]
  },
  {
   "cell_type": "markdown",
   "metadata": {},
   "source": [
    "---"
   ]
  },
  {
   "cell_type": "markdown",
   "metadata": {
    "id": "nhfzHXPFWd-s"
   },
   "source": [
    "### **Task 4**\n",
    "* Add two columns in 'top_10' dataframe - 'Recovered_percentage' and 'Deaths_percentage' where\n",
    "```\n",
    "'Recovered_percentage' = (Recovered cases / Confirmed cases) * 100\n",
    "'Death_percentage' = (Deaths cases / Confirmed cases) * 100\n",
    "```\n",
    "* Print the top 3 countries with highest recovery percent"
   ]
  },
  {
   "cell_type": "code",
   "execution_count": 11,
   "metadata": {},
   "outputs": [
    {
     "data": {
      "text/html": [
       "<div>\n",
       "<style scoped>\n",
       "    .dataframe tbody tr th:only-of-type {\n",
       "        vertical-align: middle;\n",
       "    }\n",
       "\n",
       "    .dataframe tbody tr th {\n",
       "        vertical-align: top;\n",
       "    }\n",
       "\n",
       "    .dataframe thead th {\n",
       "        text-align: right;\n",
       "    }\n",
       "</style>\n",
       "<table border=\"1\" class=\"dataframe\">\n",
       "  <thead>\n",
       "    <tr style=\"text-align: right;\">\n",
       "      <th></th>\n",
       "      <th>Country/Region</th>\n",
       "      <th>Confirmed</th>\n",
       "      <th>Deaths</th>\n",
       "      <th>Recovered</th>\n",
       "      <th>Recovered_percentage</th>\n",
       "      <th>Death_percentage</th>\n",
       "    </tr>\n",
       "  </thead>\n",
       "  <tbody>\n",
       "    <tr>\n",
       "      <th>0</th>\n",
       "      <td>US</td>\n",
       "      <td>381714.0</td>\n",
       "      <td>30758.0</td>\n",
       "      <td>0.0</td>\n",
       "      <td>0.000000</td>\n",
       "      <td>8.057865</td>\n",
       "    </tr>\n",
       "    <tr>\n",
       "      <th>1</th>\n",
       "      <td>Russia</td>\n",
       "      <td>202935.0</td>\n",
       "      <td>3187.0</td>\n",
       "      <td>118024.0</td>\n",
       "      <td>58.158524</td>\n",
       "      <td>1.570454</td>\n",
       "    </tr>\n",
       "    <tr>\n",
       "      <th>2</th>\n",
       "      <td>France</td>\n",
       "      <td>188918.0</td>\n",
       "      <td>29315.0</td>\n",
       "      <td>69578.0</td>\n",
       "      <td>36.829736</td>\n",
       "      <td>15.517314</td>\n",
       "    </tr>\n",
       "    <tr>\n",
       "      <th>3</th>\n",
       "      <td>Iran</td>\n",
       "      <td>182525.0</td>\n",
       "      <td>8659.0</td>\n",
       "      <td>144649.0</td>\n",
       "      <td>79.248870</td>\n",
       "      <td>4.744008</td>\n",
       "    </tr>\n",
       "    <tr>\n",
       "      <th>4</th>\n",
       "      <td>Turkey</td>\n",
       "      <td>175218.0</td>\n",
       "      <td>4778.0</td>\n",
       "      <td>149102.0</td>\n",
       "      <td>85.095139</td>\n",
       "      <td>2.726889</td>\n",
       "    </tr>\n",
       "    <tr>\n",
       "      <th>5</th>\n",
       "      <td>Brazil</td>\n",
       "      <td>167900.0</td>\n",
       "      <td>10368.0</td>\n",
       "      <td>49295.0</td>\n",
       "      <td>29.359738</td>\n",
       "      <td>6.175104</td>\n",
       "    </tr>\n",
       "    <tr>\n",
       "      <th>6</th>\n",
       "      <td>US</td>\n",
       "      <td>166164.0</td>\n",
       "      <td>12489.0</td>\n",
       "      <td>0.0</td>\n",
       "      <td>0.000000</td>\n",
       "      <td>7.516068</td>\n",
       "    </tr>\n",
       "    <tr>\n",
       "      <th>7</th>\n",
       "      <td>UK</td>\n",
       "      <td>156410.0</td>\n",
       "      <td>37069.0</td>\n",
       "      <td>0.0</td>\n",
       "      <td>0.000000</td>\n",
       "      <td>23.699891</td>\n",
       "    </tr>\n",
       "    <tr>\n",
       "      <th>8</th>\n",
       "      <td>US</td>\n",
       "      <td>146659.0</td>\n",
       "      <td>4978.0</td>\n",
       "      <td>0.0</td>\n",
       "      <td>0.000000</td>\n",
       "      <td>3.394268</td>\n",
       "    </tr>\n",
       "    <tr>\n",
       "      <th>9</th>\n",
       "      <td>US</td>\n",
       "      <td>131198.0</td>\n",
       "      <td>6260.0</td>\n",
       "      <td>0.0</td>\n",
       "      <td>0.000000</td>\n",
       "      <td>4.771414</td>\n",
       "    </tr>\n",
       "  </tbody>\n",
       "</table>\n",
       "</div>"
      ],
      "text/plain": [
       "  Country/Region  Confirmed   Deaths  Recovered  Recovered_percentage  \\\n",
       "0             US   381714.0  30758.0        0.0              0.000000   \n",
       "1         Russia   202935.0   3187.0   118024.0             58.158524   \n",
       "2         France   188918.0  29315.0    69578.0             36.829736   \n",
       "3           Iran   182525.0   8659.0   144649.0             79.248870   \n",
       "4         Turkey   175218.0   4778.0   149102.0             85.095139   \n",
       "5         Brazil   167900.0  10368.0    49295.0             29.359738   \n",
       "6             US   166164.0  12489.0        0.0              0.000000   \n",
       "7             UK   156410.0  37069.0        0.0              0.000000   \n",
       "8             US   146659.0   4978.0        0.0              0.000000   \n",
       "9             US   131198.0   6260.0        0.0              0.000000   \n",
       "\n",
       "   Death_percentage  \n",
       "0          8.057865  \n",
       "1          1.570454  \n",
       "2         15.517314  \n",
       "3          4.744008  \n",
       "4          2.726889  \n",
       "5          6.175104  \n",
       "6          7.516068  \n",
       "7         23.699891  \n",
       "8          3.394268  \n",
       "9          4.771414  "
      ]
     },
     "execution_count": 11,
     "metadata": {},
     "output_type": "execute_result"
    }
   ],
   "source": [
    "# Adding columns 'Recovered_percentage' & 'Deaths_percentage' to top_10\n",
    "top_10['Recovered_percentage'] = (top_10['Recovered'] / top_10['Confirmed']) * 100\n",
    "top_10['Death_percentage'] = (top_10['Deaths'] / top_10['Confirmed']) * 100\n",
    "top_10"
   ]
  },
  {
   "cell_type": "code",
   "execution_count": 12,
   "metadata": {},
   "outputs": [
    {
     "data": {
      "text/html": [
       "<div>\n",
       "<style scoped>\n",
       "    .dataframe tbody tr th:only-of-type {\n",
       "        vertical-align: middle;\n",
       "    }\n",
       "\n",
       "    .dataframe tbody tr th {\n",
       "        vertical-align: top;\n",
       "    }\n",
       "\n",
       "    .dataframe thead th {\n",
       "        text-align: right;\n",
       "    }\n",
       "</style>\n",
       "<table border=\"1\" class=\"dataframe\">\n",
       "  <thead>\n",
       "    <tr style=\"text-align: right;\">\n",
       "      <th></th>\n",
       "      <th>Country/Region</th>\n",
       "      <th>Recovered_percentage</th>\n",
       "    </tr>\n",
       "  </thead>\n",
       "  <tbody>\n",
       "    <tr>\n",
       "      <th>4</th>\n",
       "      <td>Turkey</td>\n",
       "      <td>85.095139</td>\n",
       "    </tr>\n",
       "    <tr>\n",
       "      <th>3</th>\n",
       "      <td>Iran</td>\n",
       "      <td>79.248870</td>\n",
       "    </tr>\n",
       "    <tr>\n",
       "      <th>1</th>\n",
       "      <td>Russia</td>\n",
       "      <td>58.158524</td>\n",
       "    </tr>\n",
       "  </tbody>\n",
       "</table>\n",
       "</div>"
      ],
      "text/plain": [
       "  Country/Region  Recovered_percentage\n",
       "4         Turkey             85.095139\n",
       "3           Iran             79.248870\n",
       "1         Russia             58.158524"
      ]
     },
     "execution_count": 12,
     "metadata": {},
     "output_type": "execute_result"
    }
   ],
   "source": [
    "# Top 3 countries with highest recovery percent\n",
    "top_10.sort_values('Recovered_percentage', ascending=False)[['Country/Region', 'Recovered_percentage']][:3]"
   ]
  },
  {
   "cell_type": "markdown",
   "metadata": {},
   "source": [
    "---"
   ]
  }
 ],
 "metadata": {
  "colab": {
   "name": "Pandas Bootcamp Graded Hands-on Exercise.ipynb",
   "provenance": []
  },
  "kernelspec": {
   "display_name": "Python 3 (ipykernel)",
   "language": "python",
   "name": "python3"
  },
  "language_info": {
   "codemirror_mode": {
    "name": "ipython",
    "version": 3
   },
   "file_extension": ".py",
   "mimetype": "text/x-python",
   "name": "python",
   "nbconvert_exporter": "python",
   "pygments_lexer": "ipython3",
   "version": "3.9.1"
  }
 },
 "nbformat": 4,
 "nbformat_minor": 1
}
