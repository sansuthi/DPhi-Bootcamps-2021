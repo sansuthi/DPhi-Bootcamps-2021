{
 "cells": [
  {
   "cell_type": "markdown",
   "metadata": {},
   "source": [
    "---\n",
    "# _Introduction to Python Basics for Data Science_\n",
    "## _Date: 26 Sep_\n",
    "---"
   ]
  },
  {
   "cell_type": "markdown",
   "metadata": {
    "id": "A8yCrhVHQ_lC"
   },
   "source": [
    "## Overview\n",
    "\n",
    "Dear Learner, \n",
    "\n",
    "Congratulations, you have studied Python all the way through the end of this bootcamp!!! This is the final graded hands-on exercise where you will be accomplishing the below mentioned task.\n",
    "\n",
    "Authors: Albana Celepija, Vinayak Deshpande"
   ]
  },
  {
   "cell_type": "markdown",
   "metadata": {
    "id": "y_B39vCQGRTH"
   },
   "source": [
    "### Task 1\n",
    "\n",
    "We have declared a tuple containing five same elements as following:  \n",
    "T = (‘python’, ‘python’, ‘python’, ‘python’, ‘python’).  \n",
    "Re-write the same code in an optimal/simple way that fetches the same result."
   ]
  },
  {
   "cell_type": "code",
   "execution_count": 1,
   "metadata": {},
   "outputs": [
    {
     "data": {
      "text/plain": [
       "('python', 'python', 'python', 'python', 'python')"
      ]
     },
     "execution_count": 1,
     "metadata": {},
     "output_type": "execute_result"
    }
   ],
   "source": [
    "T = tuple(['python']) * 5\n",
    "T"
   ]
  },
  {
   "cell_type": "markdown",
   "metadata": {
    "id": "H_8tFcijGRTQ"
   },
   "source": [
    "### Task 2\n",
    "\n",
    "Write code to print characters from a string that are present at an even index number.  \n",
    "For example, if your input string is \"python\", the output characters will be (p,t,o)."
   ]
  },
  {
   "cell_type": "code",
   "execution_count": 2,
   "metadata": {},
   "outputs": [
    {
     "name": "stdout",
     "output_type": "stream",
     "text": [
      "P\n",
      "t\n",
      "o\n",
      "_\n",
      "r\n",
      "g\n",
      "a\n",
      "m\n",
      "n\n"
     ]
    }
   ],
   "source": [
    "string = 'Python_Programming'\n",
    "for i in range(0, len(string), 2):\n",
    "    print(string[i])"
   ]
  },
  {
   "cell_type": "markdown",
   "metadata": {
    "id": "FbLVbwcsGRTT"
   },
   "source": [
    "### Task 3\n",
    "\n",
    "Write a function that calculates the average of the elements of the list: \n",
    "\n",
    "elements = [5, 7, 4, 9, 2]"
   ]
  },
  {
   "cell_type": "code",
   "execution_count": 3,
   "metadata": {},
   "outputs": [
    {
     "name": "stdout",
     "output_type": "stream",
     "text": [
      "List: [5, 7, 4, 9, 2]\n",
      "Average: 5.4\n"
     ]
    }
   ],
   "source": [
    "elements = [5, 7, 4, 9, 2]\n",
    "print('List:', elements)\n",
    "print('Average:', sum(elements)/len(elements))"
   ]
  },
  {
   "cell_type": "markdown",
   "metadata": {
    "id": "2pzfM3wS4oqt"
   },
   "source": [
    "### Task 4\n",
    "Write code to find if the given year is a leap year or not."
   ]
  },
  {
   "cell_type": "code",
   "execution_count": 4,
   "metadata": {},
   "outputs": [],
   "source": [
    "def leap_year(year):\n",
    "    if (year%400 == 0 or (year%4 == 0 and year%100 != 0)): \n",
    "        print(f'{year} is Leap Year!')\n",
    "    else: \n",
    "        print(f'{year} is not Leap Year!')"
   ]
  },
  {
   "cell_type": "code",
   "execution_count": 5,
   "metadata": {},
   "outputs": [
    {
     "name": "stdout",
     "output_type": "stream",
     "text": [
      "1999 is not Leap Year!\n",
      "2000 is Leap Year!\n"
     ]
    }
   ],
   "source": [
    "leap_year(1999)\n",
    "leap_year(2000)"
   ]
  },
  {
   "cell_type": "markdown",
   "metadata": {
    "id": "zsVw9yrD5drx"
   },
   "source": [
    "### Task 5\n",
    "Given a list of numbers (integers), find the sum of second maximum and second minimum in the following list.\n",
    "\n",
    "l = [21, 6, 12, 57, 35, 61]"
   ]
  },
  {
   "cell_type": "code",
   "execution_count": 6,
   "metadata": {},
   "outputs": [
    {
     "name": "stdout",
     "output_type": "stream",
     "text": [
      "Sorted List: [6, 12, 21, 35, 57, 61]\n",
      "sum of second maximum and second minimum: 69\n"
     ]
    }
   ],
   "source": [
    "l = [21, 6, 12, 57, 35, 61]\n",
    "l = sorted(l)\n",
    "print('Sorted List:', l)\n",
    "print('sum of second maximum and second minimum:', l[1]+l[-2])"
   ]
  },
  {
   "cell_type": "markdown",
   "metadata": {},
   "source": [
    "---"
   ]
  }
 ],
 "metadata": {
  "colab": {
   "collapsed_sections": [],
   "name": "Python Bootcamp Graded Hands-on Exercise.ipynb",
   "provenance": []
  },
  "kernelspec": {
   "display_name": "Python 3 (ipykernel)",
   "language": "python",
   "name": "python3"
  },
  "language_info": {
   "codemirror_mode": {
    "name": "ipython",
    "version": 3
   },
   "file_extension": ".py",
   "mimetype": "text/x-python",
   "name": "python",
   "nbconvert_exporter": "python",
   "pygments_lexer": "ipython3",
   "version": "3.9.1"
  }
 },
 "nbformat": 4,
 "nbformat_minor": 1
}
