{
 "cells": [
  {
   "cell_type": "markdown",
   "id": "f62f853a",
   "metadata": {},
   "source": [
    "---\n",
    "# _Getting Started with Natural Language Processing_\n",
    "## _Date: 27 Sep_\n",
    "---"
   ]
  },
  {
   "cell_type": "markdown",
   "id": "f5751a9d",
   "metadata": {},
   "source": [
    "### Q1:\n",
    "Which of the following are the applications of NLP?\n",
    "> **a) Autocorrect**  \n",
    "> **b) Question Answering**  \n",
    "> c) Predicting Length of text answer  \n",
    "> d) Facial recognition"
   ]
  },
  {
   "cell_type": "markdown",
   "id": "f160fb57",
   "metadata": {},
   "source": [
    "### Q2:\n",
    "Which of the following is the ideal workflow of an NLP application?\n",
    "> a) Data Collection -> Feature Engineering ->  Data Preprocessing -> Data Analysis -> Modeling -> Model Evaluation -> Model Deployment  \n",
    "> b) Data Preprocessing -> Data Analysis -> Data Collection -> Feature Engineering -> Modeling -> Model Evaluation -> Model Deployment  \n",
    "> **c) Data Collection->Data Preprocessing->Data Analysis->Feature Engineering->Modeling->Model Evaluation->Model Deployment**  \n",
    "> d) Data Collection -> Data Preprocessing -> Data Analysis -> Feature Engineering -> Modeling -> Model Deployment -> Model Evaluation"
   ]
  },
  {
   "cell_type": "markdown",
   "id": "aaeb93f4",
   "metadata": {},
   "source": [
    "### Q3:\n",
    "Which of the following sentences are correct about Stemming and Lemmatization?\n",
    " \n",
    "> a) Stemming considers the context of the word and converts to the meaningful base word.     \n",
    "> **b) Lemmatization considers the context of the word and converts to the meaningful base word.**  \n",
    "> **c) Stemming just removes the last few characters of the word.**  \n",
    "> d) We can have multiple stems (stemming output) for a word.  \n",
    "> **e) We can have multiple lemmas (lemmatization output) for a word.**"
   ]
  },
  {
   "cell_type": "markdown",
   "id": "2d9f8726",
   "metadata": {},
   "source": [
    "### Q4:\n",
    "Which of the following is used in the process to convert the text to tokens and then convert that tokens to vectors?\n",
    "> **a) CountVectorizer**  \n",
    "> **b) TF-IDF**  \n",
    "> **c) Bag of words**  \n",
    "> d) Naive Bayes   "
   ]
  },
  {
   "cell_type": "markdown",
   "id": "d150bfaa",
   "metadata": {},
   "source": [
    "### Q5: \n",
    "Select all that are word embedding models\n",
    "> **a) Word2Vec**  \n",
    "> **b) Glove**  \n",
    "> **c) FastText**  \n",
    "> d) TF-IDF"
   ]
  },
  {
   "cell_type": "markdown",
   "id": "feaff894",
   "metadata": {},
   "source": [
    "### Q6:\n",
    "Which of the following are the challenges faced while debugging ML models?\n",
    "> **a) Accuracy doesn’t increase after a certain stage.**  \n",
    "> **b) Model too complex to deploy.**  \n",
    "> **c) Model is 99.5% accurate, but the F-1 score is low.**  \n",
    "> d) Model is 90% accurate on training data, but only 85% accurate on test data."
   ]
  },
  {
   "cell_type": "markdown",
   "id": "88d19d59",
   "metadata": {},
   "source": [
    "### Q7:\n",
    "What is the correct method to calculate document similarity?\n",
    "> a) Accuracy  \n",
    "> b) Precision  \n",
    "> c) Recall  \n",
    "> **d) Cosine similarity**"
   ]
  },
  {
   "cell_type": "markdown",
   "id": "fa4bcba1",
   "metadata": {},
   "source": [
    "### Q8:\n",
    "Which of the following platforms is not used for model deployment?\n",
    "> a) Heroku  \n",
    "> **b) Google colab**  \n",
    "> c) Amazon AWS  \n",
    "> d) Microsoft Azure\n",
    "\n",
    "---"
   ]
  }
 ],
 "metadata": {
  "kernelspec": {
   "display_name": "Python 3 (ipykernel)",
   "language": "python",
   "name": "python3"
  },
  "language_info": {
   "codemirror_mode": {
    "name": "ipython",
    "version": 3
   },
   "file_extension": ".py",
   "mimetype": "text/x-python",
   "name": "python",
   "nbconvert_exporter": "python",
   "pygments_lexer": "ipython3",
   "version": "3.9.1"
  }
 },
 "nbformat": 4,
 "nbformat_minor": 5
}
