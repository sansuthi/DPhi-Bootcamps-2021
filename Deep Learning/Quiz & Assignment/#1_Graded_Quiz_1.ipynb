{
 "cells": [
  {
   "cell_type": "markdown",
   "id": "ff6e1a7f",
   "metadata": {},
   "source": [
    "---\n",
    "# _Quiz 1 - Tensor Operations_\n",
    "## _Date: 13 July '21_\n",
    "---"
   ]
  },
  {
   "cell_type": "markdown",
   "id": "1f8a1657",
   "metadata": {},
   "source": [
    "### Q1. \n",
    "Select the correct statement.\n",
    "> We can change the content of a Tensor same as we do for NumPy arrays  \n",
    "\n",
    "> **We cannot change the content of a Tensor like strings or numbers in Python**  \n",
    "\n",
    "> **Tensors are immutable**  \n",
    "\n",
    "> Tensors are mutable"
   ]
  },
  {
   "cell_type": "markdown",
   "id": "e392f97e",
   "metadata": {},
   "source": [
    "### Q2. \n",
    "A Tensor is a multidimensional array and can have elements of two or more different data types.\n",
    "> True  \n",
    "\n",
    "> **False**  "
   ]
  },
  {
   "cell_type": "markdown",
   "id": "62fdbca5",
   "metadata": {},
   "source": [
    "### Q3. \n",
    "Which of the following sets of codes will help you create a Tensor?\n",
    "> **tf.constant([[1, 2],  \n",
    "[3, 4],  \n",
    "[5, 6]], dtype=tf.float16)**\n",
    "\n",
    "> **tf.constant([[[0, 1, 2, 3, 4],  \n",
    "[5, 6, 7, 8, 9]],  \n",
    "[[10, 11, 12, 13, 14],  \n",
    "[15, 16, 17, 18, 19]],  \n",
    "[[20, 21, 22, 23, 24],  \n",
    "[25, 26, 27, 28, 29]],])**    \n",
    "\n",
    "> None"
   ]
  },
  {
   "cell_type": "markdown",
   "id": "c3a69a30",
   "metadata": {},
   "source": [
    "### Q4.\n",
    "What is the shape of the given Tensor?\n",
    "```\n",
    "tf.constant([\n",
    "[[0, 1, 2, 3, 4],\n",
    "[5, 6, 7, 8, 9]],\n",
    "[[10, 11, 12, 13, 14],\n",
    "[15, 16, 17, 18, 19]],\n",
    "[[20, 21, 22, 23, 24],\n",
    "[25, 26, 27, 28, 29]],])\n",
    "```\n",
    "> **(3, 2, 5)**  \n",
    "\n",
    "> (3, 5, 2)   \n",
    "\n",
    "> (5, 3, 2)  \n",
    "\n",
    "> (2, 3, 5)"
   ]
  },
  {
   "cell_type": "markdown",
   "id": "f679b232",
   "metadata": {},
   "source": [
    "### Q5. \n",
    "Select the correct option about the given tensor.\n",
    "```\n",
    "tf.constant([\n",
    "[[0, 1, 2, 3, 4],\n",
    "[5, 6, 7, 8, 9]],\n",
    "[[10, 11, 12, 13, 14],\n",
    "[15, 16, 17, 18, 19]],\n",
    "[[20, 21, 22, 23, 24],\n",
    "[25, 26, 27, 28, 29]],])\n",
    "```\n",
    "> **The shape of the Tensor is (3, 2, 5)**   \n",
    "\n",
    "> **The Tensor has 3 dimensions**   \n",
    "\n",
    "> **The rank of the Tensor is 3**   \n",
    "\n",
    "> **The size of the Tensor is 30**  "
   ]
  },
  {
   "cell_type": "markdown",
   "id": "c62b8113",
   "metadata": {},
   "source": [
    "### Q6. \n",
    "Consider the given tensor and select the correct options.\n",
    "```\n",
    "tensor = tf.constant([2, 14, 10, 12, 15, 3, 2, 5, 15, 78])\n",
    "\n",
    "Note: odd is defined for human understanding. If we say odd position means positions 1, 3, 5, .... \n",
    "for humans but for python it changes to 0, 2, 4, ...... because the indexing in Python starts form 0.\n",
    "```\n",
    "> **To get the first element from the tensor: tensor[0]**\n",
    "\n",
    "> **To get the last element from the tensor: tensor[-1]**\n",
    "\n",
    "> **To get the first five elements: tensor[:5]**\n",
    "\n",
    "> **To get the every elements at odd positions: tensor[0::2]**"
   ]
  },
  {
   "cell_type": "markdown",
   "id": "5b790c03",
   "metadata": {},
   "source": [
    "### Q7. \n",
    "Suppose we have the tensor below. What is the value returned by t[1][0]?\n",
    "```\n",
    "t = [\n",
    "[3, 2, 1],\n",
    "[6, 5, 4],\n",
    "[9, 8, 7]\n",
    "]\n",
    "```\n",
    "> 3\n",
    "\n",
    "> **6**\n",
    "\n",
    "> 9\n",
    "\n",
    "> [6, 5, 4]"
   ]
  },
  {
   "cell_type": "markdown",
   "id": "80a02d76",
   "metadata": {},
   "source": [
    "### Q8. \n",
    "Determine the shape of the tensor t below.\n",
    "```\n",
    "t = tf.constant([\n",
    "    [\n",
    "         [2, 4, 4, 3], \n",
    "         [3, 2, 4, 5]\n",
    "    ]\n",
    "])\n",
    "```\n",
    "> **TensorShape([1,2,4])**  \n",
    "\n",
    "> TensorShape([1,1,2,4])\n",
    "\n",
    "> TensorShape([4,2])\n",
    "\n",
    "> TensorShape([2,4])"
   ]
  },
  {
   "cell_type": "markdown",
   "id": "b279c500",
   "metadata": {},
   "source": [
    "### Q9. \n",
    "How many indices are necessary to access a specific element of the tensor z?  \n",
    "z = [ 9, 10, 11, 12]\n",
    "> 0\n",
    "\n",
    "> **1**    \n",
    "\n",
    "> 2\n",
    "\n",
    "> 3\n",
    "\n",
    "> 4\n",
    "\n",
    "> 5"
   ]
  },
  {
   "cell_type": "markdown",
   "id": "df678765",
   "metadata": {},
   "source": [
    "### Q10. \n",
    "How many dimensions does the tensor z have?  \n",
    "z = [9, 10, 11, 12]\n",
    "> 4\n",
    "\n",
    "> 3\n",
    "\n",
    "> 2\n",
    "\n",
    "> **1**\n",
    "\n",
    "> 0"
   ]
  },
  {
   "cell_type": "markdown",
   "id": "d22de54b",
   "metadata": {},
   "source": [
    "---"
   ]
  }
 ],
 "metadata": {
  "kernelspec": {
   "display_name": "Python 3 (ipykernel)",
   "language": "python",
   "name": "python3"
  },
  "language_info": {
   "codemirror_mode": {
    "name": "ipython",
    "version": 3
   },
   "file_extension": ".py",
   "mimetype": "text/x-python",
   "name": "python",
   "nbconvert_exporter": "python",
   "pygments_lexer": "ipython3",
   "version": "3.9.1"
  }
 },
 "nbformat": 4,
 "nbformat_minor": 5
}
