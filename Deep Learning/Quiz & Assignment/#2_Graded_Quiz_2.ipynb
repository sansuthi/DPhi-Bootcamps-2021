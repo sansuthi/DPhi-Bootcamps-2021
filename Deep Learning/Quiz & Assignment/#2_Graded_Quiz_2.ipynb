{
 "cells": [
  {
   "cell_type": "markdown",
   "id": "ff6e1a7f",
   "metadata": {},
   "source": [
    "---\n",
    "# _Quiz 2 - Linear Regression and Hyperparameter Tuning_\n",
    "## _Date: 20 July '21_\n",
    "---"
   ]
  },
  {
   "cell_type": "markdown",
   "id": "1f8a1657",
   "metadata": {},
   "source": [
    "### Q1. \n",
    "Select the correct statements about Linear Regression\n",
    "> Linear Regression analysis examines the relationship between one dependent and one independent variable\n",
    "\n",
    "> Linear Regression analysis examines the relationship between one dependent and several independent variables\n",
    "\n",
    "> **Both of the above are correct**  \n",
    "\n",
    "> None"
   ]
  },
  {
   "cell_type": "markdown",
   "id": "e392f97e",
   "metadata": {},
   "source": [
    "### Q2. \n",
    "Select the correct statement about the cost with regards to neural networks\n",
    "> **The cost is how far off the learned line is from the real data**\n",
    "\n",
    "> **We use a cost function to find the best fit line in linear regression**\n",
    "\n",
    "> **Cost functions are used to estimate how badly the models are performing**"
   ]
  },
  {
   "cell_type": "markdown",
   "id": "62fdbca5",
   "metadata": {},
   "source": [
    "### Q3. \n",
    "Metrics that can be used to evaluate the Linear regression are\n",
    "> **Mean Absolute Error**\n",
    "\n",
    "> **Mean Squared Error**\n",
    "\n",
    "> F1 Score\n",
    "\n",
    "> **Root Mean Squared Error**"
   ]
  },
  {
   "cell_type": "markdown",
   "id": "c3a69a30",
   "metadata": {},
   "source": [
    "### Q4.\n",
    "The hyperparameters of neural networks is/are:\n",
    "> Learning Rate\n",
    "\n",
    "> Epochs\n",
    "\n",
    "> Batch Size\n",
    "\n",
    "> **All of the above are the hyperparameters of neural networks**"
   ]
  },
  {
   "cell_type": "markdown",
   "id": "f679b232",
   "metadata": {},
   "source": [
    "### Q5. \n",
    "Select the correct answer about hyperparameters\n",
    "> **Learning rate helps us to update the increase or decrease in the values of parameters during gradient descent.**\n",
    "\n",
    "> **Epochs tell you the number of loops on the training data during building the model.**\n",
    "\n",
    "> **Batch size is nothing but the number of samples in an epoch used to estimate the model error.**"
   ]
  },
  {
   "cell_type": "markdown",
   "id": "c62b8113",
   "metadata": {},
   "source": [
    "### Q6. \n",
    "Select the correct statement(s), considering you have 100 training examples and you divided it into batches of size 20.\n",
    "\n",
    "> **The number of batches we will have in this case is 5.**\n",
    "\n",
    "> The number of batches we will have in this case is 20.\n",
    "\n",
    "> **When all the batches pass through the model back and forth once, we say it as one epoch.**"
   ]
  },
  {
   "cell_type": "markdown",
   "id": "5b790c03",
   "metadata": {},
   "source": [
    "### Q7. \n",
    "Which of the following rules can help you find the best set of hyperparameters for your dataset?\n",
    "> **Training loss should steadily decrease, steeply at first, and then more slowly until the slope of the curve reaches or approaches zero.**\n",
    "\n",
    "> **If the training loss does not converge, train for more epochs.**\n",
    "\n",
    "> **If the training loss decreases too slowly, increase the learning rate. Note that setting the learning rate too high may also prevent training loss from converging.**\n",
    "\n",
    "> **Lowering the learning rate while increasing the number of epochs or the batch size is often a good combination.**\n",
    "\n",
    "> **Setting the batch size to a very small batch number can also cause instability. First, try large batch size values. Then, decrease the batch size until you see degradation.**"
   ]
  },
  {
   "cell_type": "markdown",
   "id": "80a02d76",
   "metadata": {},
   "source": [
    "### Q8. \n",
    "Hyperparameter tuning helps us find the optimal learning rate, epochs, and batch sizes.\n",
    "> **True**\n",
    "\n",
    "> False"
   ]
  },
  {
   "cell_type": "markdown",
   "id": "d22de54b",
   "metadata": {},
   "source": [
    "---"
   ]
  }
 ],
 "metadata": {
  "kernelspec": {
   "display_name": "Python 3 (ipykernel)",
   "language": "python",
   "name": "python3"
  },
  "language_info": {
   "codemirror_mode": {
    "name": "ipython",
    "version": 3
   },
   "file_extension": ".py",
   "mimetype": "text/x-python",
   "name": "python",
   "nbconvert_exporter": "python",
   "pygments_lexer": "ipython3",
   "version": "3.9.1"
  }
 },
 "nbformat": 4,
 "nbformat_minor": 5
}
