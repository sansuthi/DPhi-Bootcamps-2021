{
 "cells": [
  {
   "cell_type": "markdown",
   "id": "c5119f27",
   "metadata": {},
   "source": [
    "---\n",
    "# _Introduction to Data Visualization with Matplotlib_\n",
    "## _Date: 23 Sep_\n",
    "---"
   ]
  },
  {
   "cell_type": "markdown",
   "id": "0c556b5f",
   "metadata": {},
   "source": [
    "#### Q1: Which module in matplotlib library is generally used for data visualizations?\n",
    "> **a) pyplot**   \n",
    "> b) pyglot  \n",
    "> c) widgets  \n",
    "> d) animations"
   ]
  },
  {
   "cell_type": "markdown",
   "id": "09221493",
   "metadata": {},
   "source": [
    "#### Q2: How to add a title to a plot ?\n",
    "> a) plt.Title(“Title here”)  \n",
    "> **b) plt.title(“Title here”)**  \n",
    "> c) plt.header(“Title here”)  \n",
    "> d) plt.head(“Title here”)"
   ]
  },
  {
   "cell_type": "markdown",
   "id": "1efb9e90",
   "metadata": {},
   "source": [
    "#### Q3: Using what function can you create a horizontal bar graph?\n",
    "> a) bar()  \n",
    "> b) bar(orientation = “horizontal”)  \n",
    "> c) bar(axes = “inverse”)   \n",
    "> **d) barh()**"
   ]
  },
  {
   "cell_type": "markdown",
   "id": "44db073b",
   "metadata": {},
   "source": [
    "#### Q4: How to limit the range of values on each of the axes?\n",
    "> a) xlim, ylim  \n",
    "> **b) xticks, yticks**  \n",
    "> c) xval, yval   \n",
    "> d) None of these"
   ]
  },
  {
   "cell_type": "markdown",
   "id": "a6a24306",
   "metadata": {},
   "source": [
    "#### Q5: Which function of matplotlib can be used to create a line chart ?\n",
    "> a) line  \n",
    "> b) graph   \n",
    "> c) bar     \n",
    "> **d) plot**"
   ]
  },
  {
   "cell_type": "markdown",
   "id": "6460984f",
   "metadata": {},
   "source": [
    "#### Q6. Name the arguments used to change the style, color and width of the line respectively in a line chart.\n",
    "> a) style, color, width  \n",
    "> b) linestyle, color, width   \n",
    "> **c) linestyle, color, linewidth**    \n",
    "> d) linestyle, color, linesize"
   ]
  },
  {
   "cell_type": "markdown",
   "id": "d3b64bf1",
   "metadata": {},
   "source": [
    "#### Q7: Which method is used to plot a pie chart?\n",
    "> a) bar  \n",
    "> **b) pie**  \n",
    "> c) hist   \n",
    "> d) plot"
   ]
  },
  {
   "cell_type": "markdown",
   "id": "fb07940e",
   "metadata": {},
   "source": [
    "#### Q8: With respect to the graph, the highlighted part in the green square shown in the below image is called?\n",
    "![](https://github.com/sansuthi/DPhi-Data-Science-Mini-Bootcamp/blob/main/FILES/%233%20Data%20Visualization/Quiz%20%26%20Assignment/legend.png)\n",
    "\n",
    "> a) xlabel  \n",
    "> b) index   \n",
    "> **c) legend**  \n",
    "> d) indicators"
   ]
  },
  {
   "cell_type": "markdown",
   "id": "5929e033",
   "metadata": {},
   "source": [
    "#### Q9: Which statement can be used to plot the figure given below?\n",
    "\n",
    "![](https://github.com/sansuthi/DPhi-Data-Science-Mini-Bootcamp/blob/main/FILES/%233%20Data%20Visualization/Quiz%20%26%20Assignment/plot.png)\n",
    "\n",
    "> a) plt.plot(iris['petal_length'], iris['petal_width'], '--ro') \n",
    "\n",
    "> b) plt.plot(iris['petal_length'], iris['petal_width'], linestyle = '--', color = 'r', marker = '^')\n",
    "\n",
    "> c) plt.plot(iris['petal_length'], iris['petal_width'], '--r^') \n",
    "\n",
    "> **d) Both Option B and C**"
   ]
  },
  {
   "cell_type": "markdown",
   "id": "a41a9996",
   "metadata": {},
   "source": [
    "#### Q10: Which statement can be used to plot the figure given below?\n",
    "![](https://github.com/sansuthi/DPhi-Data-Science-Mini-Bootcamp/blob/main/FILES/%233%20Data%20Visualization/Quiz%20%26%20Assignment/subplot.png)\n",
    "\n",
    "> a)  \n",
    "> plt.subplot(1, 2, 1)  \n",
    "> plt.scatter(x, y1)   \n",
    "> plt.subplot(1, 2, 2)   \n",
    "> plt.scatter(x, y2)   \n",
    "> plt.tight_layout()   \n",
    "> plt.show()\n",
    "\n",
    "> b)  \n",
    "> fig, (ax1, ax2) = plt.subplots(1,2)   \n",
    "> ax1.scatter(x, y1)   \n",
    "> ax2.scatter(x, y2)   \n",
    "> plt.tight_layout()   \n",
    "> plt.show()  \n",
    "\n",
    "> **c) Both Option A and B**\n",
    "\n",
    "> d) None of the above"
   ]
  },
  {
   "cell_type": "markdown",
   "id": "79920539",
   "metadata": {},
   "source": [
    "---"
   ]
  }
 ],
 "metadata": {
  "kernelspec": {
   "display_name": "Python 3 (ipykernel)",
   "language": "python",
   "name": "python3"
  },
  "language_info": {
   "codemirror_mode": {
    "name": "ipython",
    "version": 3
   },
   "file_extension": ".py",
   "mimetype": "text/x-python",
   "name": "python",
   "nbconvert_exporter": "python",
   "pygments_lexer": "ipython3",
   "version": "3.9.1"
  }
 },
 "nbformat": 4,
 "nbformat_minor": 5
}
