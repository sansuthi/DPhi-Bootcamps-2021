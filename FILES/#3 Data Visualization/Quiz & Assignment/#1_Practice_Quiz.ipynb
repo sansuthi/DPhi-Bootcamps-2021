{
 "cells": [
  {
   "cell_type": "markdown",
   "id": "589f05a1",
   "metadata": {},
   "source": [
    "---\n",
    "# _Introduction to Data Visualization with Matplotlib_\n",
    "---\n",
    "## _Quiz 1 (23 Sep)_"
   ]
  },
  {
   "cell_type": "markdown",
   "id": "a2b4b977",
   "metadata": {},
   "source": [
    "**In this entire practice quiz, you will work with the Standard Metropolitan Areas Dataset.**\n",
    "\n",
    "### About the Dataset\n",
    "It contains data of 99 standard metropolitan areas in the US. The data set provides information on 10 variables for each area for the period 1976-1977.   \n",
    "The areas have been divided into 4 geographic regions: 1=North-East, 2=North-Central, 3=South, 4=West.\n",
    "\n",
    "\n",
    "**Data Description:**  \n",
    "land_area : size in square miles  \n",
    "percent_city : percent of population in central city/cities  \n",
    "percent_senior : percent of population ≤ 65 years  \n",
    "physicians : number of professionally active physicians  \n",
    "hospital_beds : total number of hospital beds  \n",
    "graduates : percent of adults that finished high school  \n",
    "work_force : number of persons in work force in thousands  \n",
    "income : total income in 1976 in millions of dollars  \n",
    "crime_rate : Ratio of number of serious crimes by total population  \n",
    "region : geographic region according to US Census  \n",
    "\n",
    "\n",
    "We can see that the regions have 4 values, where:\n",
    "1 = North-East\n",
    "2 = North-Central\n",
    "3 = South\n",
    "4 = West\n",
   ]
  },
  {
   "cell_type": "code",
   "execution_count": 1,
   "id": "20316830",
   "metadata": {},
   "outputs": [],
   "source": [
    "import pandas as pd\n",
    "import matplotlib.pyplot as plt"
   ]
  },
  {
   "cell_type": "markdown",
   "id": "8dde52d7",
   "metadata": {},
   "source": [
    "### Q1: Which of the following information is correct about the data?\n",
    "> a) There are 4 variables of 'float' dtype, 5 variables of 'int' dtype.  \n",
    "> b) There are 3 variables of 'float' dtype, 7 variables of 'int' dtype.  \n",
    "> **c) There are 5 variables of 'float' dtype, 5 variables of 'int' dtype.**  \n",
    "> d) There are 6 variables of 'float' dtype, 4 variables of 'int' dtype. "
   ]
  },
  {
   "cell_type": "code",
   "execution_count": 2,
   "id": "38581e22",
   "metadata": {},
   "outputs": [
    {
     "name": "stdout",
     "output_type": "stream",
     "text": [
      "<class 'pandas.core.frame.DataFrame'>\n",
      "RangeIndex: 99 entries, 0 to 98\n",
      "Data columns (total 10 columns):\n",
      " #   Column          Non-Null Count  Dtype  \n",
      "---  ------          --------------  -----  \n",
      " 0   land_area       99 non-null     int64  \n",
      " 1   percent_city    99 non-null     float64\n",
      " 2   percent_senior  99 non-null     float64\n",
      " 3   physicians      99 non-null     int64  \n",
      " 4   hospital_beds   99 non-null     int64  \n",
      " 5   graduates       99 non-null     float64\n",
      " 6   work_force      99 non-null     float64\n",
      " 7   income          99 non-null     int64  \n",
      " 8   region          99 non-null     int64  \n",
      " 9   crime_rate      99 non-null     float64\n",
      "dtypes: float64(5), int64(5)\n",
      "memory usage: 7.9 KB\n"
     ]
    }
   ],
   "source": [
    "data = pd.read_csv('Standard_Metropolitan_Areas_Data-data.csv')\n",
    "data.info()"
   ]
  },
  {
   "cell_type": "markdown",
   "id": "3d3e1b8a",
   "metadata": {},
   "source": [
    "### Q3: Which of the following information is correct about the data?\n",
    "\n",
    "> a) 1. mean land areas of these Metropolitan areas = 2615.73   \n",
    "> 2. maximum crime rate among all the Metropolitan areas = 85.62  \n",
    "\n",
    "> b) minimum income in million dollars of all the metropolitan areas = 769.00  \n",
    "\n",
    "> c) 1. total count of non null entries in 'hospital_beds' = 99.0  \n",
    "> 2. Most of the Metropolitan areas lie in region 3  \n",
    "\n",
    "> d) 1. only 17 Metropolitan areas lie in region 4  \n",
    "> 2. average crime rate in among the metropolitan areas = 55.64  \n",
    "\n",
    "> **e) All of the above.**"
   ]
  },
  {
   "cell_type": "code",
   "execution_count": 3,
   "id": "d23b440d",
   "metadata": {},
   "outputs": [
    {
     "data": {
      "text/html": [
       "<div>\n",
       "<style scoped>\n",
       "    .dataframe tbody tr th:only-of-type {\n",
       "        vertical-align: middle;\n",
       "    }\n",
       "\n",
       "    .dataframe tbody tr th {\n",
       "        vertical-align: top;\n",
       "    }\n",
       "\n",
       "    .dataframe thead th {\n",
       "        text-align: right;\n",
       "    }\n",
       "</style>\n",
       "<table border=\"1\" class=\"dataframe\">\n",
       "  <thead>\n",
       "    <tr style=\"text-align: right;\">\n",
       "      <th></th>\n",
       "      <th>land_area</th>\n",
       "      <th>percent_city</th>\n",
       "      <th>percent_senior</th>\n",
       "      <th>physicians</th>\n",
       "      <th>hospital_beds</th>\n",
       "      <th>graduates</th>\n",
       "      <th>work_force</th>\n",
       "      <th>income</th>\n",
       "      <th>region</th>\n",
       "      <th>crime_rate</th>\n",
       "    </tr>\n",
       "  </thead>\n",
       "  <tbody>\n",
       "    <tr>\n",
       "      <th>count</th>\n",
       "      <td>99.000000</td>\n",
       "      <td>99.000000</td>\n",
       "      <td>99.000000</td>\n",
       "      <td>99.000000</td>\n",
       "      <td>99.000000</td>\n",
       "      <td>99.000000</td>\n",
       "      <td>99.000000</td>\n",
       "      <td>99.000000</td>\n",
       "      <td>99.000000</td>\n",
       "      <td>99.000000</td>\n",
       "    </tr>\n",
       "    <tr>\n",
       "      <th>mean</th>\n",
       "      <td>2615.727273</td>\n",
       "      <td>42.518182</td>\n",
       "      <td>9.781818</td>\n",
       "      <td>1828.333333</td>\n",
       "      <td>6345.868687</td>\n",
       "      <td>54.463636</td>\n",
       "      <td>449.366667</td>\n",
       "      <td>6762.505051</td>\n",
       "      <td>2.494949</td>\n",
       "      <td>55.643030</td>\n",
       "    </tr>\n",
       "    <tr>\n",
       "      <th>std</th>\n",
       "      <td>3045.826210</td>\n",
       "      <td>17.348277</td>\n",
       "      <td>2.524547</td>\n",
       "      <td>3192.199763</td>\n",
       "      <td>9136.202716</td>\n",
       "      <td>7.773286</td>\n",
       "      <td>610.990885</td>\n",
       "      <td>10393.349660</td>\n",
       "      <td>1.013921</td>\n",
       "      <td>13.470943</td>\n",
       "    </tr>\n",
       "    <tr>\n",
       "      <th>min</th>\n",
       "      <td>47.000000</td>\n",
       "      <td>13.400000</td>\n",
       "      <td>3.900000</td>\n",
       "      <td>140.000000</td>\n",
       "      <td>481.000000</td>\n",
       "      <td>30.300000</td>\n",
       "      <td>66.900000</td>\n",
       "      <td>769.000000</td>\n",
       "      <td>1.000000</td>\n",
       "      <td>23.320000</td>\n",
       "    </tr>\n",
       "    <tr>\n",
       "      <th>25%</th>\n",
       "      <td>1408.000000</td>\n",
       "      <td>30.100000</td>\n",
       "      <td>8.350000</td>\n",
       "      <td>459.000000</td>\n",
       "      <td>2390.000000</td>\n",
       "      <td>50.250000</td>\n",
       "      <td>150.300000</td>\n",
       "      <td>2003.000000</td>\n",
       "      <td>2.000000</td>\n",
       "      <td>46.115000</td>\n",
       "    </tr>\n",
       "    <tr>\n",
       "      <th>50%</th>\n",
       "      <td>1951.000000</td>\n",
       "      <td>39.500000</td>\n",
       "      <td>9.700000</td>\n",
       "      <td>774.000000</td>\n",
       "      <td>3472.000000</td>\n",
       "      <td>54.000000</td>\n",
       "      <td>257.200000</td>\n",
       "      <td>3510.000000</td>\n",
       "      <td>3.000000</td>\n",
       "      <td>56.060000</td>\n",
       "    </tr>\n",
       "    <tr>\n",
       "      <th>75%</th>\n",
       "      <td>2890.500000</td>\n",
       "      <td>52.600000</td>\n",
       "      <td>10.750000</td>\n",
       "      <td>1911.500000</td>\n",
       "      <td>6386.500000</td>\n",
       "      <td>58.300000</td>\n",
       "      <td>436.500000</td>\n",
       "      <td>6283.500000</td>\n",
       "      <td>3.000000</td>\n",
       "      <td>63.860000</td>\n",
       "    </tr>\n",
       "    <tr>\n",
       "      <th>max</th>\n",
       "      <td>27293.000000</td>\n",
       "      <td>100.000000</td>\n",
       "      <td>21.800000</td>\n",
       "      <td>25627.000000</td>\n",
       "      <td>69678.000000</td>\n",
       "      <td>72.800000</td>\n",
       "      <td>4083.900000</td>\n",
       "      <td>72100.000000</td>\n",
       "      <td>4.000000</td>\n",
       "      <td>85.620000</td>\n",
       "    </tr>\n",
       "  </tbody>\n",
       "</table>\n",
       "</div>"
      ],
      "text/plain": [
       "          land_area  percent_city  percent_senior    physicians  \\\n",
       "count     99.000000     99.000000       99.000000     99.000000   \n",
       "mean    2615.727273     42.518182        9.781818   1828.333333   \n",
       "std     3045.826210     17.348277        2.524547   3192.199763   \n",
       "min       47.000000     13.400000        3.900000    140.000000   \n",
       "25%     1408.000000     30.100000        8.350000    459.000000   \n",
       "50%     1951.000000     39.500000        9.700000    774.000000   \n",
       "75%     2890.500000     52.600000       10.750000   1911.500000   \n",
       "max    27293.000000    100.000000       21.800000  25627.000000   \n",
       "\n",
       "       hospital_beds  graduates   work_force        income     region  \\\n",
       "count      99.000000  99.000000    99.000000     99.000000  99.000000   \n",
       "mean     6345.868687  54.463636   449.366667   6762.505051   2.494949   \n",
       "std      9136.202716   7.773286   610.990885  10393.349660   1.013921   \n",
       "min       481.000000  30.300000    66.900000    769.000000   1.000000   \n",
       "25%      2390.000000  50.250000   150.300000   2003.000000   2.000000   \n",
       "50%      3472.000000  54.000000   257.200000   3510.000000   3.000000   \n",
       "75%      6386.500000  58.300000   436.500000   6283.500000   3.000000   \n",
       "max     69678.000000  72.800000  4083.900000  72100.000000   4.000000   \n",
       "\n",
       "       crime_rate  \n",
       "count   99.000000  \n",
       "mean    55.643030  \n",
       "std     13.470943  \n",
       "min     23.320000  \n",
       "25%     46.115000  \n",
       "50%     56.060000  \n",
       "75%     63.860000  \n",
       "max     85.620000  "
      ]
     },
     "execution_count": 3,
     "metadata": {},
     "output_type": "execute_result"
    }
   ],
   "source": [
    "data.describe()"
   ]
  },
  {
   "cell_type": "code",
   "execution_count": 4,
   "id": "db1bc116",
   "metadata": {},
   "outputs": [
    {
     "data": {
      "text/plain": [
       "3    36\n",
       "2    25\n",
       "1    21\n",
       "4    17\n",
       "Name: region, dtype: int64"
      ]
     },
     "execution_count": 4,
     "metadata": {},
     "output_type": "execute_result"
    }
   ],
   "source": [
    "data.region.value_counts()"
   ]
  },
  {
   "cell_type": "markdown",
   "id": "d9f23096",
   "metadata": {},
   "source": [
    "### Q4: Correlation matrix among the features of the dataset?"
   ]
  },
  {
   "cell_type": "code",
   "execution_count": 5,
   "id": "12b86b58",
   "metadata": {},
   "outputs": [
    {
     "data": {
      "text/html": [
       "<div>\n",
       "<style scoped>\n",
       "    .dataframe tbody tr th:only-of-type {\n",
       "        vertical-align: middle;\n",
       "    }\n",
       "\n",
       "    .dataframe tbody tr th {\n",
       "        vertical-align: top;\n",
       "    }\n",
       "\n",
       "    .dataframe thead th {\n",
       "        text-align: right;\n",
       "    }\n",
       "</style>\n",
       "<table border=\"1\" class=\"dataframe\">\n",
       "  <thead>\n",
       "    <tr style=\"text-align: right;\">\n",
       "      <th></th>\n",
       "      <th>land_area</th>\n",
       "      <th>percent_city</th>\n",
       "      <th>percent_senior</th>\n",
       "      <th>physicians</th>\n",
       "      <th>hospital_beds</th>\n",
       "      <th>graduates</th>\n",
       "      <th>work_force</th>\n",
       "      <th>income</th>\n",
       "      <th>region</th>\n",
       "      <th>crime_rate</th>\n",
       "    </tr>\n",
       "  </thead>\n",
       "  <tbody>\n",
       "    <tr>\n",
       "      <th>land_area</th>\n",
       "      <td>1.000000</td>\n",
       "      <td>-0.077320</td>\n",
       "      <td>0.092226</td>\n",
       "      <td>0.085054</td>\n",
       "      <td>0.081034</td>\n",
       "      <td>0.088728</td>\n",
       "      <td>0.135792</td>\n",
       "      <td>0.111404</td>\n",
       "      <td>0.292392</td>\n",
       "      <td>0.293907</td>\n",
       "    </tr>\n",
       "    <tr>\n",
       "      <th>percent_city</th>\n",
       "      <td>-0.077320</td>\n",
       "      <td>1.000000</td>\n",
       "      <td>-0.250995</td>\n",
       "      <td>0.067391</td>\n",
       "      <td>0.052898</td>\n",
       "      <td>0.076720</td>\n",
       "      <td>0.016011</td>\n",
       "      <td>0.019235</td>\n",
       "      <td>0.235880</td>\n",
       "      <td>0.159596</td>\n",
       "    </tr>\n",
       "    <tr>\n",
       "      <th>percent_senior</th>\n",
       "      <td>0.092226</td>\n",
       "      <td>-0.250995</td>\n",
       "      <td>1.000000</td>\n",
       "      <td>0.056454</td>\n",
       "      <td>0.083775</td>\n",
       "      <td>-0.155695</td>\n",
       "      <td>0.035240</td>\n",
       "      <td>0.046073</td>\n",
       "      <td>-0.242811</td>\n",
       "      <td>-0.177992</td>\n",
       "    </tr>\n",
       "    <tr>\n",
       "      <th>physicians</th>\n",
       "      <td>0.085054</td>\n",
       "      <td>0.067391</td>\n",
       "      <td>0.056454</td>\n",
       "      <td>1.000000</td>\n",
       "      <td>0.974241</td>\n",
       "      <td>0.049500</td>\n",
       "      <td>0.965597</td>\n",
       "      <td>0.976209</td>\n",
       "      <td>-0.140961</td>\n",
       "      <td>0.187763</td>\n",
       "    </tr>\n",
       "    <tr>\n",
       "      <th>hospital_beds</th>\n",
       "      <td>0.081034</td>\n",
       "      <td>0.052898</td>\n",
       "      <td>0.083775</td>\n",
       "      <td>0.974241</td>\n",
       "      <td>1.000000</td>\n",
       "      <td>-0.003892</td>\n",
       "      <td>0.967913</td>\n",
       "      <td>0.974416</td>\n",
       "      <td>-0.220305</td>\n",
       "      <td>0.109799</td>\n",
       "    </tr>\n",
       "    <tr>\n",
       "      <th>graduates</th>\n",
       "      <td>0.088728</td>\n",
       "      <td>0.076720</td>\n",
       "      <td>-0.155695</td>\n",
       "      <td>0.049500</td>\n",
       "      <td>-0.003892</td>\n",
       "      <td>1.000000</td>\n",
       "      <td>0.044054</td>\n",
       "      <td>0.045578</td>\n",
       "      <td>0.246226</td>\n",
       "      <td>0.290880</td>\n",
       "    </tr>\n",
       "    <tr>\n",
       "      <th>work_force</th>\n",
       "      <td>0.135792</td>\n",
       "      <td>0.016011</td>\n",
       "      <td>0.035240</td>\n",
       "      <td>0.965597</td>\n",
       "      <td>0.967913</td>\n",
       "      <td>0.044054</td>\n",
       "      <td>1.000000</td>\n",
       "      <td>0.996735</td>\n",
       "      <td>-0.144022</td>\n",
       "      <td>0.175945</td>\n",
       "    </tr>\n",
       "    <tr>\n",
       "      <th>income</th>\n",
       "      <td>0.111404</td>\n",
       "      <td>0.019235</td>\n",
       "      <td>0.046073</td>\n",
       "      <td>0.976209</td>\n",
       "      <td>0.974416</td>\n",
       "      <td>0.045578</td>\n",
       "      <td>0.996735</td>\n",
       "      <td>1.000000</td>\n",
       "      <td>-0.152016</td>\n",
       "      <td>0.175797</td>\n",
       "    </tr>\n",
       "    <tr>\n",
       "      <th>region</th>\n",
       "      <td>0.292392</td>\n",
       "      <td>0.235880</td>\n",
       "      <td>-0.242811</td>\n",
       "      <td>-0.140961</td>\n",
       "      <td>-0.220305</td>\n",
       "      <td>0.246226</td>\n",
       "      <td>-0.144022</td>\n",
       "      <td>-0.152016</td>\n",
       "      <td>1.000000</td>\n",
       "      <td>0.636192</td>\n",
       "    </tr>\n",
       "    <tr>\n",
       "      <th>crime_rate</th>\n",
       "      <td>0.293907</td>\n",
       "      <td>0.159596</td>\n",
       "      <td>-0.177992</td>\n",
       "      <td>0.187763</td>\n",
       "      <td>0.109799</td>\n",
       "      <td>0.290880</td>\n",
       "      <td>0.175945</td>\n",
       "      <td>0.175797</td>\n",
       "      <td>0.636192</td>\n",
       "      <td>1.000000</td>\n",
       "    </tr>\n",
       "  </tbody>\n",
       "</table>\n",
       "</div>"
      ],
      "text/plain": [
       "                land_area  percent_city  percent_senior  physicians  \\\n",
       "land_area        1.000000     -0.077320        0.092226    0.085054   \n",
       "percent_city    -0.077320      1.000000       -0.250995    0.067391   \n",
       "percent_senior   0.092226     -0.250995        1.000000    0.056454   \n",
       "physicians       0.085054      0.067391        0.056454    1.000000   \n",
       "hospital_beds    0.081034      0.052898        0.083775    0.974241   \n",
       "graduates        0.088728      0.076720       -0.155695    0.049500   \n",
       "work_force       0.135792      0.016011        0.035240    0.965597   \n",
       "income           0.111404      0.019235        0.046073    0.976209   \n",
       "region           0.292392      0.235880       -0.242811   -0.140961   \n",
       "crime_rate       0.293907      0.159596       -0.177992    0.187763   \n",
       "\n",
       "                hospital_beds  graduates  work_force    income    region  \\\n",
       "land_area            0.081034   0.088728    0.135792  0.111404  0.292392   \n",
       "percent_city         0.052898   0.076720    0.016011  0.019235  0.235880   \n",
       "percent_senior       0.083775  -0.155695    0.035240  0.046073 -0.242811   \n",
       "physicians           0.974241   0.049500    0.965597  0.976209 -0.140961   \n",
       "hospital_beds        1.000000  -0.003892    0.967913  0.974416 -0.220305   \n",
       "graduates           -0.003892   1.000000    0.044054  0.045578  0.246226   \n",
       "work_force           0.967913   0.044054    1.000000  0.996735 -0.144022   \n",
       "income               0.974416   0.045578    0.996735  1.000000 -0.152016   \n",
       "region              -0.220305   0.246226   -0.144022 -0.152016  1.000000   \n",
       "crime_rate           0.109799   0.290880    0.175945  0.175797  0.636192   \n",
       "\n",
       "                crime_rate  \n",
       "land_area         0.293907  \n",
       "percent_city      0.159596  \n",
       "percent_senior   -0.177992  \n",
       "physicians        0.187763  \n",
       "hospital_beds     0.109799  \n",
       "graduates         0.290880  \n",
       "work_force        0.175945  \n",
       "income            0.175797  \n",
       "region            0.636192  \n",
       "crime_rate        1.000000  "
      ]
     },
     "execution_count": 5,
     "metadata": {},
     "output_type": "execute_result"
    }
   ],
   "source": [
    "data.corr()"
   ]
  },
  {
   "cell_type": "markdown",
   "id": "da6b2f84",
   "metadata": {},
   "source": [
    "### Q5. First five land area of the metropolitan area data which are located in region 4?"
   ]
  },
  {
   "cell_type": "code",
   "execution_count": 6,
   "id": "2952c195",
   "metadata": {},
   "outputs": [
    {
     "data": {
      "text/plain": [
       "4      2480\n",
       "13      782\n",
       "14     4226\n",
       "18    27293\n",
       "20     9155\n",
       "Name: land_area, dtype: int64"
      ]
     },
     "execution_count": 6,
     "metadata": {},
     "output_type": "execute_result"
    }
   ],
   "source": [
    "region4_land = data[data.region == 4]['land_area']\n",
    "region4_land[:5]"
   ]
  },
  {
   "cell_type": "markdown",
   "id": "36494782",
   "metadata": {},
   "source": [
    "### Q6. Which of the following information is correct about Standard Metropolitan Data?\n",
    "> a) There are 5 Metropolitan areas which are located in region 1 and their crime rate is greater than or equal to 54.16  \n",
    "> b) There are 40 Metropolitan area which is located in region 3 or have land area greater than or equal to 5000  \n",
    "> c) There is no Metropolitan area whose crime rate is 85.62 and is located in region 4  \n",
    "> **d) There isn't any Metropolitan area which is located in region 4 and crime rate is 55.64**   \n",
    "> e) None of the above"
   ]
  },
  {
   "cell_type": "code",
   "execution_count": 7,
   "id": "ae53b773",
   "metadata": {},
   "outputs": [
    {
     "data": {
      "text/plain": [
       "4"
      ]
     },
     "execution_count": 7,
     "metadata": {},
     "output_type": "execute_result"
    }
   ],
   "source": [
    "len(data[(data.region == 1) & (data['crime_rate'] >= 54.16)])"
   ]
  },
  {
   "cell_type": "code",
   "execution_count": 8,
   "id": "6d618d89",
   "metadata": {},
   "outputs": [
    {
     "data": {
      "text/plain": [
       "41"
      ]
     },
     "execution_count": 8,
     "metadata": {},
     "output_type": "execute_result"
    }
   ],
   "source": [
    "len(data[(data.region == 3) | (data['land_area'] >= 5000)])"
   ]
  },
  {
   "cell_type": "code",
   "execution_count": 9,
   "id": "1df60d5d",
   "metadata": {},
   "outputs": [
    {
     "data": {
      "text/plain": [
       "1"
      ]
     },
     "execution_count": 9,
     "metadata": {},
     "output_type": "execute_result"
    }
   ],
   "source": [
    "len(data[(data['crime_rate'] == 85.62) & (data.region == 4) ])"
   ]
  },
  {
   "cell_type": "code",
   "execution_count": 10,
   "id": "674c1aca",
   "metadata": {},
   "outputs": [
    {
     "data": {
      "text/plain": [
       "0"
      ]
     },
     "execution_count": 10,
     "metadata": {},
     "output_type": "execute_result"
    }
   ],
   "source": [
    "len(data[(data.region == 4) & (data['crime_rate'] == 55.64)])"
   ]
  },
  {
   "cell_type": "markdown",
   "id": "b2274a2d",
   "metadata": {},
   "source": [
    "### Q7. Line plot between land area and crime rate?"
   ]
  },
  {
   "cell_type": "code",
   "execution_count": 11,
   "id": "f72904e4",
   "metadata": {},
   "outputs": [
    {
     "data": {
      "image/png": "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\n",
      "text/plain": [
       "<Figure size 432x288 with 1 Axes>"
      ]
     },
     "metadata": {
      "needs_background": "light"
     },
     "output_type": "display_data"
    }
   ],
   "source": [
    "plt.plot(data['land_area'], data['crime_rate'])\n",
    "plt.show()"
   ]
  },
  {
   "cell_type": "markdown",
   "id": "2fa4ec6c",
   "metadata": {},
   "source": [
    "### Q8. correlation information between variables:  'hospital_beds' and 'physicians'?"
   ]
  },
  {
   "cell_type": "code",
   "execution_count": 12,
   "id": "5743cb0e",
   "metadata": {},
   "outputs": [
    {
     "data": {
      "image/png": "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\n",
      "text/plain": [
       "<Figure size 432x288 with 1 Axes>"
      ]
     },
     "metadata": {
      "needs_background": "light"
     },
     "output_type": "display_data"
    }
   ],
   "source": [
    "plt.scatter(x=data['physicians'], y=data['hospital_beds'])\n",
    "plt.show()"
   ]
  },
  {
   "cell_type": "markdown",
   "id": "6abcda46",
   "metadata": {},
   "source": [
    "### Q9. Barplot of geographic regions?"
   ]
  },
  {
   "cell_type": "code",
   "execution_count": 13,
   "id": "9207c2c1",
   "metadata": {},
   "outputs": [
    {
     "data": {
      "image/png": "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\n",
      "text/plain": [
       "<Figure size 432x288 with 1 Axes>"
      ]
     },
     "metadata": {
      "needs_background": "light"
     },
     "output_type": "display_data"
    }
   ],
   "source": [
    "plt.hist(data.region)\n",
    "plt.show()"
   ]
  },
  {
   "cell_type": "markdown",
   "id": "0a74a6d1",
   "metadata": {},
   "source": [
    "### Q10. Distribution of income of the Metropolitan areas?"
   ]
  },
  {
   "cell_type": "code",
   "execution_count": 14,
   "id": "a540bdd7",
   "metadata": {},
   "outputs": [
    {
     "data": {
      "image/png": "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\n",
      "text/plain": [
       "<Figure size 432x288 with 1 Axes>"
      ]
     },
     "metadata": {
      "needs_background": "light"
     },
     "output_type": "display_data"
    }
   ],
   "source": [
    "plt.hist(data.income)\n",
    "plt.show()"
   ]
  },
  {
   "cell_type": "markdown",
   "id": "d23a8462",
   "metadata": {},
   "source": [
    "---"
   ]
  }
 ],
 "metadata": {
  "kernelspec": {
   "display_name": "Python 3 (ipykernel)",
   "language": "python",
   "name": "python3"
  },
  "language_info": {
   "codemirror_mode": {
    "name": "ipython",
    "version": 3
   },
   "file_extension": ".py",
   "mimetype": "text/x-python",
   "name": "python",
   "nbconvert_exporter": "python",
   "pygments_lexer": "ipython3",
   "version": "3.9.1"
  }
 },
 "nbformat": 4,
 "nbformat_minor": 5
}
