{
 "cells": [
  {
   "cell_type": "markdown",
   "id": "e43365c2",
   "metadata": {},
   "source": [
    "---\n",
    "# _Introduction to Python Basics for Data Science_\n",
    "---\n",
    "## _Quiz 1 (19 Sep)_"
   ]
  },
  {
   "cell_type": "markdown",
   "id": "0fb534ee",
   "metadata": {},
   "source": [
    "#### Q1. Write a Python program to input two numbers and print their sum.\n",
    "#### (Eg: Input: a = 5, b = 10)\n",
    "#### (Output: 15)"
   ]
  },
  {
   "cell_type": "code",
   "execution_count": 1,
   "id": "d8a37bc3",
   "metadata": {},
   "outputs": [
    {
     "name": "stdout",
     "output_type": "stream",
     "text": [
      "Enter the first number: 12\n",
      "Enter the second number: 34\n",
      "Sum of numbers: 46\n"
     ]
    }
   ],
   "source": [
    "a = int(input('Enter the first number: '))\n",
    "b = int(input('Enter the second number: '))\n",
    "print('Sum of numbers:', a+b)"
   ]
  },
  {
   "cell_type": "markdown",
   "id": "1b3a59bd",
   "metadata": {},
   "source": [
    "#### Q2. Write a Python program to input a number and print it's cube.\n",
    "#### (Eg: Input: a = 2)\n",
    "#### (Output: 8)"
   ]
  },
  {
   "cell_type": "code",
   "execution_count": 2,
   "id": "7571cf49",
   "metadata": {},
   "outputs": [
    {
     "name": "stdout",
     "output_type": "stream",
     "text": [
      "Enter a number: 7\n",
      "Cube of the number: 343\n"
     ]
    }
   ],
   "source": [
    "a = int(input('Enter a number: '))\n",
    "print('Cube of the number:', a**3)"
   ]
  },
  {
   "cell_type": "markdown",
   "id": "d55decee",
   "metadata": {},
   "source": [
    "---\n",
    "## _Quiz 2 (20 Sep)_"
   ]
  },
  {
   "cell_type": "markdown",
   "id": "44f35ff6",
   "metadata": {},
   "source": [
    "### Question:\n",
    "s1 = 'Hello'  \n",
    "s2 = 'Python programmers'  \n",
    "Option that prints \"Hello Python programmers\"?\n",
    "\n",
    "> s1 = 'Hello'  \n",
    "> s2 = 'Python programmers'\n",
    "\n",
    "> print(s1 + s2)\n",
    "\n",
    "> **print(s1 + \" \" + s2)**\n",
    "\n",
    "> **print(s1 + ' ' + s2)**\n",
    "\n",
    "> print('s1' + ' ' + 's2')"
   ]
  },
  {
   "cell_type": "code",
   "execution_count": 3,
   "id": "e0e0774d",
   "metadata": {},
   "outputs": [],
   "source": [
    "s1 = 'Hello'\n",
    "s2 = 'Python programmers'"
   ]
  },
  {
   "cell_type": "code",
   "execution_count": 4,
   "id": "9600163e",
   "metadata": {},
   "outputs": [
    {
     "name": "stdout",
     "output_type": "stream",
     "text": [
      "HelloPython programmers\n"
     ]
    }
   ],
   "source": [
    "print(s1 + s2)"
   ]
  },
  {
   "cell_type": "code",
   "execution_count": 5,
   "id": "258c6311",
   "metadata": {},
   "outputs": [
    {
     "name": "stdout",
     "output_type": "stream",
     "text": [
      "Hello Python programmers\n"
     ]
    }
   ],
   "source": [
    "print(s1 + \" \" + s2)"
   ]
  },
  {
   "cell_type": "code",
   "execution_count": 6,
   "id": "8f4be4c6",
   "metadata": {},
   "outputs": [
    {
     "name": "stdout",
     "output_type": "stream",
     "text": [
      "Hello Python programmers\n"
     ]
    }
   ],
   "source": [
    "print(s1 + ' ' + s2)"
   ]
  },
  {
   "cell_type": "code",
   "execution_count": 7,
   "id": "4440cfdf",
   "metadata": {},
   "outputs": [
    {
     "name": "stdout",
     "output_type": "stream",
     "text": [
      "s1 s2\n"
     ]
    }
   ],
   "source": [
    "print('s1' + ' ' + 's2')"
   ]
  },
  {
   "cell_type": "markdown",
   "id": "1bf0806d",
   "metadata": {},
   "source": [
    "### Question:\n",
    "s = 'Python is easy to_learn'  \n",
    "Option that prints \"learn\"?"
   ]
  },
  {
   "cell_type": "code",
   "execution_count": 8,
   "id": "82351890",
   "metadata": {},
   "outputs": [],
   "source": [
    "s = 'Python is easy to_learn'"
   ]
  },
  {
   "cell_type": "code",
   "execution_count": 9,
   "id": "43e0457d",
   "metadata": {},
   "outputs": [
    {
     "name": "stdout",
     "output_type": "stream",
     "text": [
      "learn\n"
     ]
    }
   ],
   "source": [
    "print(s[-5:])"
   ]
  },
  {
   "cell_type": "code",
   "execution_count": 10,
   "id": "6881ad88",
   "metadata": {},
   "outputs": [
    {
     "name": "stdout",
     "output_type": "stream",
     "text": [
      "o_learn\n"
     ]
    }
   ],
   "source": [
    "print(s[16:])"
   ]
  },
  {
   "cell_type": "code",
   "execution_count": 11,
   "id": "b5e0b045",
   "metadata": {},
   "outputs": [
    {
     "name": "stdout",
     "output_type": "stream",
     "text": [
      "_learn\n"
     ]
    }
   ],
   "source": [
    "print(s[17:])"
   ]
  },
  {
   "cell_type": "code",
   "execution_count": 12,
   "id": "568a9888",
   "metadata": {},
   "outputs": [
    {
     "name": "stdout",
     "output_type": "stream",
     "text": [
      "earn\n"
     ]
    }
   ],
   "source": [
    "print(s[-4:])"
   ]
  },
  {
   "cell_type": "markdown",
   "id": "ae736655",
   "metadata": {},
   "source": [
    "### Question:\n",
    "first_name: abc, last_name: xyz  \n",
    "Option that prints \"Hello abc xyz! You just delved into python\"\n",
    "\n",
    "> first_name = input()  \n",
    "> last_name = input()  \n",
    "> print(\"Hello\" + \" \" + first_name + \" \" + last_name + \"!\" + \" \" + \"You just delved into Python\")\n",
    "\n",
    "> first_name = input()  \n",
    "> last_name = input()  \n",
    "> print(\"Hello\" + \" \" + first_name + \" \" + last_name + \"! \" + \"You just delved into Python\")\n",
    "\n",
    "> first_name = input()  \n",
    "> last_name = input()  \n",
    "> print(\"Hello\" + \" \" + first_name + \" \" + last_name + \"!\" + \" You just delved into Python\")\n",
    "\n",
    "> first_name = input()  \n",
    "> last_name = input()  \n",
    "> print(\"Hello \" + first_name + \" \" + last_name + \"!\" + \" \" + \"You just delved into Python\")\n",
    "\n",
    "> **All of the above**"
   ]
  },
  {
   "cell_type": "code",
   "execution_count": 13,
   "id": "0607f06f",
   "metadata": {},
   "outputs": [
    {
     "name": "stdout",
     "output_type": "stream",
     "text": [
      "abc\n",
      "xyz\n",
      "Hello abc xyz! You just delved into Python\n"
     ]
    }
   ],
   "source": [
    "first_name = input()\n",
    "last_name = input()\n",
    "print(\"Hello\" + \" \" + first_name + \" \" + last_name + \"!\" + \" \" + \"You just delved into Python\")"
   ]
  },
  {
   "cell_type": "code",
   "execution_count": 14,
   "id": "b78a5370",
   "metadata": {},
   "outputs": [
    {
     "name": "stdout",
     "output_type": "stream",
     "text": [
      "abc\n",
      "xyz\n",
      "Hello abc xyz! You just delved into Python\n"
     ]
    }
   ],
   "source": [
    "first_name = input()\n",
    "last_name = input()\n",
    "print(\"Hello\" + \" \" + first_name + \" \" + last_name + \"! \" + \"You just delved into Python\")"
   ]
  },
  {
   "cell_type": "code",
   "execution_count": 15,
   "id": "336e1182",
   "metadata": {},
   "outputs": [
    {
     "name": "stdout",
     "output_type": "stream",
     "text": [
      "abc\n",
      "xyz\n",
      "Hello abc xyz! You just delved into Python\n"
     ]
    }
   ],
   "source": [
    "first_name = input()\n",
    "last_name = input()\n",
    "print(\"Hello\" + \" \" + first_name + \" \" + last_name + \"!\" + \" You just delved into Python\")"
   ]
  },
  {
   "cell_type": "code",
   "execution_count": 16,
   "id": "833dffa6",
   "metadata": {},
   "outputs": [
    {
     "name": "stdout",
     "output_type": "stream",
     "text": [
      "abc\n",
      "xyz\n",
      "Hello abc xyz! You just delved into Python\n"
     ]
    }
   ],
   "source": [
    "first_name = input()\n",
    "last_name = input()\n",
    "print(\"Hello \" + first_name + \" \" + last_name + \"!\" + \" \" + \"You just delved into Python\")"
   ]
  },
  {
   "cell_type": "markdown",
   "id": "01c80e86",
   "metadata": {},
   "source": [
    "---\n",
    "## _Quiz 3 (22 Sep)_"
   ]
  },
  {
   "cell_type": "markdown",
   "id": "ce737871",
   "metadata": {},
   "source": [
    "### Question:\n",
    "Consider the given list of values. \n",
    "```\n",
    "L = [10, 20, 30, 25, 32, 45, 50]\n",
    "```\n",
    "Select the correct Python program to print the last element from the list.  \n",
    "[Note: [5] is not an element, it is a list of one element]\n",
    "\n",
    "> print(L[-1])  \n",
    "> print(L[6])  \n",
    "> print(L[-1:])  \n",
    "> print(L[6:])  \n",
    "> **Both 1 and 2**"
   ]
  },
  {
   "cell_type": "code",
   "execution_count": 17,
   "id": "eaed2120",
   "metadata": {},
   "outputs": [],
   "source": [
    "L = [10, 20, 30, 25, 32, 45, 50]"
   ]
  },
  {
   "cell_type": "code",
   "execution_count": 18,
   "id": "5d91a96c",
   "metadata": {},
   "outputs": [
    {
     "name": "stdout",
     "output_type": "stream",
     "text": [
      "50\n"
     ]
    }
   ],
   "source": [
    "print(L[-1])"
   ]
  },
  {
   "cell_type": "code",
   "execution_count": 19,
   "id": "d1b8d196",
   "metadata": {},
   "outputs": [
    {
     "name": "stdout",
     "output_type": "stream",
     "text": [
      "50\n"
     ]
    }
   ],
   "source": [
    "print(L[6])"
   ]
  },
  {
   "cell_type": "code",
   "execution_count": 20,
   "id": "29633909",
   "metadata": {},
   "outputs": [
    {
     "name": "stdout",
     "output_type": "stream",
     "text": [
      "[50]\n"
     ]
    }
   ],
   "source": [
    "print(L[-1:])"
   ]
  },
  {
   "cell_type": "code",
   "execution_count": 21,
   "id": "089a13ff",
   "metadata": {},
   "outputs": [
    {
     "name": "stdout",
     "output_type": "stream",
     "text": [
      "[50]\n"
     ]
    }
   ],
   "source": [
    "print(L[6:])"
   ]
  },
  {
   "cell_type": "markdown",
   "id": "1dc2935e",
   "metadata": {},
   "source": [
    "### Question:\n",
    "Consider the given list of numbers. L = [10, 20, 30, 25, 32, 45, 50]  \n",
    "Correct Python program to print the length of the list 'L' is:  \n",
    "> print(length(L))  \n",
    "> print(L.length)   \n",
    "> **print(len(L))**  \n",
    "> print(L.len())   \n",
    "> Both 3 and 4"
   ]
  },
  {
   "cell_type": "code",
   "execution_count": 22,
   "id": "5635ecc7",
   "metadata": {},
   "outputs": [
    {
     "ename": "NameError",
     "evalue": "name 'length' is not defined",
     "output_type": "error",
     "traceback": [
      "\u001b[1;31m---------------------------------------------------------------------------\u001b[0m",
      "\u001b[1;31mNameError\u001b[0m                                 Traceback (most recent call last)",
      "\u001b[1;32m~\\AppData\\Local\\Temp/ipykernel_16824/744681743.py\u001b[0m in \u001b[0;36m<module>\u001b[1;34m\u001b[0m\n\u001b[1;32m----> 1\u001b[1;33m \u001b[0mprint\u001b[0m\u001b[1;33m(\u001b[0m\u001b[0mlength\u001b[0m\u001b[1;33m(\u001b[0m\u001b[0mL\u001b[0m\u001b[1;33m)\u001b[0m\u001b[1;33m)\u001b[0m\u001b[1;33m\u001b[0m\u001b[1;33m\u001b[0m\u001b[0m\n\u001b[0m",
      "\u001b[1;31mNameError\u001b[0m: name 'length' is not defined"
     ]
    }
   ],
   "source": [
    "print(length(L))"
   ]
  },
  {
   "cell_type": "code",
   "execution_count": 23,
   "id": "5ac0b20b",
   "metadata": {},
   "outputs": [
    {
     "ename": "AttributeError",
     "evalue": "'list' object has no attribute 'length'",
     "output_type": "error",
     "traceback": [
      "\u001b[1;31m---------------------------------------------------------------------------\u001b[0m",
      "\u001b[1;31mAttributeError\u001b[0m                            Traceback (most recent call last)",
      "\u001b[1;32m~\\AppData\\Local\\Temp/ipykernel_16824/3231137997.py\u001b[0m in \u001b[0;36m<module>\u001b[1;34m\u001b[0m\n\u001b[1;32m----> 1\u001b[1;33m \u001b[0mprint\u001b[0m\u001b[1;33m(\u001b[0m\u001b[0mL\u001b[0m\u001b[1;33m.\u001b[0m\u001b[0mlength\u001b[0m\u001b[1;33m)\u001b[0m\u001b[1;33m\u001b[0m\u001b[1;33m\u001b[0m\u001b[0m\n\u001b[0m",
      "\u001b[1;31mAttributeError\u001b[0m: 'list' object has no attribute 'length'"
     ]
    }
   ],
   "source": [
    "print(L.length)"
   ]
  },
  {
   "cell_type": "code",
   "execution_count": 24,
   "id": "6b5b67b4",
   "metadata": {},
   "outputs": [
    {
     "name": "stdout",
     "output_type": "stream",
     "text": [
      "7\n"
     ]
    }
   ],
   "source": [
    "print(len(L))"
   ]
  },
  {
   "cell_type": "code",
   "execution_count": 25,
   "id": "d9f68ebb",
   "metadata": {},
   "outputs": [
    {
     "ename": "AttributeError",
     "evalue": "'list' object has no attribute 'len'",
     "output_type": "error",
     "traceback": [
      "\u001b[1;31m---------------------------------------------------------------------------\u001b[0m",
      "\u001b[1;31mAttributeError\u001b[0m                            Traceback (most recent call last)",
      "\u001b[1;32m~\\AppData\\Local\\Temp/ipykernel_16824/3158176582.py\u001b[0m in \u001b[0;36m<module>\u001b[1;34m\u001b[0m\n\u001b[1;32m----> 1\u001b[1;33m \u001b[0mprint\u001b[0m\u001b[1;33m(\u001b[0m\u001b[0mL\u001b[0m\u001b[1;33m.\u001b[0m\u001b[0mlen\u001b[0m\u001b[1;33m(\u001b[0m\u001b[1;33m)\u001b[0m\u001b[1;33m)\u001b[0m\u001b[1;33m\u001b[0m\u001b[1;33m\u001b[0m\u001b[0m\n\u001b[0m",
      "\u001b[1;31mAttributeError\u001b[0m: 'list' object has no attribute 'len'"
     ]
    }
   ],
   "source": [
    "print(L.len())"
   ]
  },
  {
   "cell_type": "markdown",
   "id": "2a5aba8d",
   "metadata": {},
   "source": [
    "### Question:\n",
    "Consider the given list of numbers. L = [10, 20, 30, 25, 32, 45, 50]  \n",
    "- Append 20 in the list 'L'  \n",
    "- Append 32 in the list 'L'  \n",
    "- Print the number of occurrence of 32 in the list 'L'  \n",
    "\n",
    "Select a correct set of Python programs that will perform all of the operations mentioned above    \n",
    "> L.append(20) # To add 20 in the list 'L'  \n",
    "> L.append(32) # To add 32 in the list 'L'  \n",
    "> print(L.occurrenceOf(32)) # To print the occurrence of 32 in the list 'L'\n",
    "\n",
    "> L.add(20) # To add 20 in the list 'L'  \n",
    "> L.add(32) # To add 32 in the list 'L'  \n",
    "> print(L.count(32)) # To print the occurrence of 32 in the list 'L'  \n",
    "\n",
    "> L.append(20) # To add 20 in the list 'L'  \n",
    "> L.append(32) # To add 32 in the list 'L'  \n",
    "> print(L.count('32')) # To print the occurrence of 32 in the list 'L'\n",
    "\n",
    "> **L.append(20)     # To add 20 in the list 'L'**   \n",
    "> **L.append(32)    # To add 32 in the list 'L'**    \n",
    "> **print(L.count(32))      # To print the occurrence of 32 in the list 'L'**  "
   ]
  },
  {
   "cell_type": "code",
   "execution_count": 26,
   "id": "332df60a",
   "metadata": {},
   "outputs": [
    {
     "ename": "AttributeError",
     "evalue": "'list' object has no attribute 'occurrenceOf'",
     "output_type": "error",
     "traceback": [
      "\u001b[1;31m---------------------------------------------------------------------------\u001b[0m",
      "\u001b[1;31mAttributeError\u001b[0m                            Traceback (most recent call last)",
      "\u001b[1;32m~\\AppData\\Local\\Temp/ipykernel_16824/292857329.py\u001b[0m in \u001b[0;36m<module>\u001b[1;34m\u001b[0m\n\u001b[0;32m      1\u001b[0m \u001b[0mL\u001b[0m\u001b[1;33m.\u001b[0m\u001b[0mappend\u001b[0m\u001b[1;33m(\u001b[0m\u001b[1;36m20\u001b[0m\u001b[1;33m)\u001b[0m\u001b[1;33m\u001b[0m\u001b[1;33m\u001b[0m\u001b[0m\n\u001b[0;32m      2\u001b[0m \u001b[0mL\u001b[0m\u001b[1;33m.\u001b[0m\u001b[0mappend\u001b[0m\u001b[1;33m(\u001b[0m\u001b[1;36m32\u001b[0m\u001b[1;33m)\u001b[0m\u001b[1;33m\u001b[0m\u001b[1;33m\u001b[0m\u001b[0m\n\u001b[1;32m----> 3\u001b[1;33m \u001b[0mprint\u001b[0m\u001b[1;33m(\u001b[0m\u001b[0mL\u001b[0m\u001b[1;33m.\u001b[0m\u001b[0moccurrenceOf\u001b[0m\u001b[1;33m(\u001b[0m\u001b[1;36m32\u001b[0m\u001b[1;33m)\u001b[0m\u001b[1;33m)\u001b[0m\u001b[1;33m\u001b[0m\u001b[1;33m\u001b[0m\u001b[0m\n\u001b[0m",
      "\u001b[1;31mAttributeError\u001b[0m: 'list' object has no attribute 'occurrenceOf'"
     ]
    }
   ],
   "source": [
    "L.append(20) \n",
    "L.append(32) \n",
    "print(L.occurrenceOf(32)) "
   ]
  },
  {
   "cell_type": "code",
   "execution_count": 27,
   "id": "4a6cfb6b",
   "metadata": {},
   "outputs": [
    {
     "ename": "AttributeError",
     "evalue": "'list' object has no attribute 'add'",
     "output_type": "error",
     "traceback": [
      "\u001b[1;31m---------------------------------------------------------------------------\u001b[0m",
      "\u001b[1;31mAttributeError\u001b[0m                            Traceback (most recent call last)",
      "\u001b[1;32m~\\AppData\\Local\\Temp/ipykernel_16824/3043276287.py\u001b[0m in \u001b[0;36m<module>\u001b[1;34m\u001b[0m\n\u001b[1;32m----> 1\u001b[1;33m \u001b[0mL\u001b[0m\u001b[1;33m.\u001b[0m\u001b[0madd\u001b[0m\u001b[1;33m(\u001b[0m\u001b[1;36m20\u001b[0m\u001b[1;33m)\u001b[0m\u001b[1;33m\u001b[0m\u001b[1;33m\u001b[0m\u001b[0m\n\u001b[0m\u001b[0;32m      2\u001b[0m \u001b[0mL\u001b[0m\u001b[1;33m.\u001b[0m\u001b[0madd\u001b[0m\u001b[1;33m(\u001b[0m\u001b[1;36m32\u001b[0m\u001b[1;33m)\u001b[0m\u001b[1;33m\u001b[0m\u001b[1;33m\u001b[0m\u001b[0m\n\u001b[0;32m      3\u001b[0m \u001b[0mprint\u001b[0m\u001b[1;33m(\u001b[0m\u001b[0mL\u001b[0m\u001b[1;33m.\u001b[0m\u001b[0mcount\u001b[0m\u001b[1;33m(\u001b[0m\u001b[1;36m32\u001b[0m\u001b[1;33m)\u001b[0m\u001b[1;33m)\u001b[0m\u001b[1;33m\u001b[0m\u001b[1;33m\u001b[0m\u001b[0m\n",
      "\u001b[1;31mAttributeError\u001b[0m: 'list' object has no attribute 'add'"
     ]
    }
   ],
   "source": [
    "L.add(20) \n",
    "L.add(32) \n",
    "print(L.count(32)) "
   ]
  },
  {
   "cell_type": "code",
   "execution_count": 28,
   "id": "7d97dd27",
   "metadata": {},
   "outputs": [
    {
     "name": "stdout",
     "output_type": "stream",
     "text": [
      "0\n"
     ]
    }
   ],
   "source": [
    "L.append(20) \n",
    "L.append(32) \n",
    "print(L.count('32')) "
   ]
  },
  {
   "cell_type": "code",
   "execution_count": 29,
   "id": "f8405263",
   "metadata": {},
   "outputs": [
    {
     "name": "stdout",
     "output_type": "stream",
     "text": [
      "4\n"
     ]
    }
   ],
   "source": [
    "L.append(20)     \n",
    "L.append(32)    \n",
    "print(L.count(32))      "
   ]
  },
  {
   "cell_type": "markdown",
   "id": "4d643c39",
   "metadata": {},
   "source": [
    "---\n",
    "## _Quiz 4 (22 Sep)_"
   ]
  },
  {
   "cell_type": "markdown",
   "id": "7dee1ed6",
   "metadata": {},
   "source": [
    "### Question:\n",
    "What will be the output after executing the following code in Python?  \n",
    "tup = (4, 5, 6, 7, 8)  \n",
    "print(tup[8])"
   ]
  },
  {
   "cell_type": "code",
   "execution_count": 30,
   "id": "b659fccf",
   "metadata": {},
   "outputs": [
    {
     "ename": "IndexError",
     "evalue": "tuple index out of range",
     "output_type": "error",
     "traceback": [
      "\u001b[1;31m---------------------------------------------------------------------------\u001b[0m",
      "\u001b[1;31mIndexError\u001b[0m                                Traceback (most recent call last)",
      "\u001b[1;32m~\\AppData\\Local\\Temp/ipykernel_16824/1758196800.py\u001b[0m in \u001b[0;36m<module>\u001b[1;34m\u001b[0m\n\u001b[0;32m      1\u001b[0m \u001b[0mtup\u001b[0m \u001b[1;33m=\u001b[0m \u001b[1;33m(\u001b[0m\u001b[1;36m4\u001b[0m\u001b[1;33m,\u001b[0m \u001b[1;36m5\u001b[0m\u001b[1;33m,\u001b[0m \u001b[1;36m6\u001b[0m\u001b[1;33m,\u001b[0m \u001b[1;36m7\u001b[0m\u001b[1;33m,\u001b[0m \u001b[1;36m8\u001b[0m\u001b[1;33m)\u001b[0m\u001b[1;33m\u001b[0m\u001b[1;33m\u001b[0m\u001b[0m\n\u001b[1;32m----> 2\u001b[1;33m \u001b[0mprint\u001b[0m\u001b[1;33m(\u001b[0m\u001b[0mtup\u001b[0m\u001b[1;33m[\u001b[0m\u001b[1;36m8\u001b[0m\u001b[1;33m]\u001b[0m\u001b[1;33m)\u001b[0m\u001b[1;33m\u001b[0m\u001b[1;33m\u001b[0m\u001b[0m\n\u001b[0m",
      "\u001b[1;31mIndexError\u001b[0m: tuple index out of range"
     ]
    }
   ],
   "source": [
    "tup = (4, 5, 6, 7, 8)\n",
    "print(tup[8])"
   ]
  },
  {
   "cell_type": "markdown",
   "id": "648c7668",
   "metadata": {},
   "source": [
    "### Question:\n",
    "What will be the output after executing the following code in Python?  \n",
    "tup = (4, 5, 6, 7, 8)  \n",
    "tup[2] = 10  \n",
    "print(tup[2])  "
   ]
  },
  {
   "cell_type": "code",
   "execution_count": 31,
   "id": "55cf52d8",
   "metadata": {},
   "outputs": [
    {
     "ename": "TypeError",
     "evalue": "'tuple' object does not support item assignment",
     "output_type": "error",
     "traceback": [
      "\u001b[1;31m---------------------------------------------------------------------------\u001b[0m",
      "\u001b[1;31mTypeError\u001b[0m                                 Traceback (most recent call last)",
      "\u001b[1;32m~\\AppData\\Local\\Temp/ipykernel_16824/3943460410.py\u001b[0m in \u001b[0;36m<module>\u001b[1;34m\u001b[0m\n\u001b[0;32m      1\u001b[0m \u001b[0mtup\u001b[0m \u001b[1;33m=\u001b[0m \u001b[1;33m(\u001b[0m\u001b[1;36m4\u001b[0m\u001b[1;33m,\u001b[0m \u001b[1;36m5\u001b[0m\u001b[1;33m,\u001b[0m \u001b[1;36m6\u001b[0m\u001b[1;33m,\u001b[0m \u001b[1;36m7\u001b[0m\u001b[1;33m,\u001b[0m \u001b[1;36m8\u001b[0m\u001b[1;33m)\u001b[0m\u001b[1;33m\u001b[0m\u001b[1;33m\u001b[0m\u001b[0m\n\u001b[1;32m----> 2\u001b[1;33m \u001b[0mtup\u001b[0m\u001b[1;33m[\u001b[0m\u001b[1;36m2\u001b[0m\u001b[1;33m]\u001b[0m \u001b[1;33m=\u001b[0m \u001b[1;36m10\u001b[0m\u001b[1;33m\u001b[0m\u001b[1;33m\u001b[0m\u001b[0m\n\u001b[0m\u001b[0;32m      3\u001b[0m \u001b[0mprint\u001b[0m\u001b[1;33m(\u001b[0m\u001b[0mtup\u001b[0m\u001b[1;33m[\u001b[0m\u001b[1;36m2\u001b[0m\u001b[1;33m]\u001b[0m\u001b[1;33m)\u001b[0m\u001b[1;33m\u001b[0m\u001b[1;33m\u001b[0m\u001b[0m\n",
      "\u001b[1;31mTypeError\u001b[0m: 'tuple' object does not support item assignment"
     ]
    }
   ],
   "source": [
    "tup = (4, 5, 6, 7, 8)\n",
    "tup[2] = 10\n",
    "print(tup[2])"
   ]
  },
  {
   "cell_type": "markdown",
   "id": "b2888c9c",
   "metadata": {},
   "source": [
    "### Question:\n",
    "Consider the following tuple, t = (4, 4, 5, 3, 4, 2, 5, 6).   \n",
    "Select the correct Python code that will print the number of occurrences of 4 in tuple t.\n",
    "t = (4, 4, 5, 3, 4, 2, 5, 6)\n",
    "> print(count(t, 4))  \n",
    "> **print(t.count(4))**  \n",
    "> print(t.counter(4))  \n",
    "> None of the above"
   ]
  },
  {
   "cell_type": "code",
   "execution_count": 32,
   "id": "9aac3f93",
   "metadata": {},
   "outputs": [],
   "source": [
    "t = (4, 4, 5, 3, 4, 2, 5, 6)"
   ]
  },
  {
   "cell_type": "code",
   "execution_count": 33,
   "id": "c2349220",
   "metadata": {},
   "outputs": [
    {
     "ename": "NameError",
     "evalue": "name 'count' is not defined",
     "output_type": "error",
     "traceback": [
      "\u001b[1;31m---------------------------------------------------------------------------\u001b[0m",
      "\u001b[1;31mNameError\u001b[0m                                 Traceback (most recent call last)",
      "\u001b[1;32m~\\AppData\\Local\\Temp/ipykernel_16824/1870602509.py\u001b[0m in \u001b[0;36m<module>\u001b[1;34m\u001b[0m\n\u001b[1;32m----> 1\u001b[1;33m \u001b[0mprint\u001b[0m\u001b[1;33m(\u001b[0m\u001b[0mcount\u001b[0m\u001b[1;33m(\u001b[0m\u001b[0mt\u001b[0m\u001b[1;33m,\u001b[0m \u001b[1;36m4\u001b[0m\u001b[1;33m)\u001b[0m\u001b[1;33m)\u001b[0m\u001b[1;33m\u001b[0m\u001b[1;33m\u001b[0m\u001b[0m\n\u001b[0m",
      "\u001b[1;31mNameError\u001b[0m: name 'count' is not defined"
     ]
    }
   ],
   "source": [
    "print(count(t, 4))"
   ]
  },
  {
   "cell_type": "code",
   "execution_count": 34,
   "id": "072eb691",
   "metadata": {},
   "outputs": [
    {
     "name": "stdout",
     "output_type": "stream",
     "text": [
      "3\n"
     ]
    }
   ],
   "source": [
    "print(t.count(4))"
   ]
  },
  {
   "cell_type": "code",
   "execution_count": 35,
   "id": "13361b9c",
   "metadata": {},
   "outputs": [
    {
     "ename": "AttributeError",
     "evalue": "'tuple' object has no attribute 'counter'",
     "output_type": "error",
     "traceback": [
      "\u001b[1;31m---------------------------------------------------------------------------\u001b[0m",
      "\u001b[1;31mAttributeError\u001b[0m                            Traceback (most recent call last)",
      "\u001b[1;32m~\\AppData\\Local\\Temp/ipykernel_16824/2203530497.py\u001b[0m in \u001b[0;36m<module>\u001b[1;34m\u001b[0m\n\u001b[1;32m----> 1\u001b[1;33m \u001b[0mprint\u001b[0m\u001b[1;33m(\u001b[0m\u001b[0mt\u001b[0m\u001b[1;33m.\u001b[0m\u001b[0mcounter\u001b[0m\u001b[1;33m(\u001b[0m\u001b[1;36m4\u001b[0m\u001b[1;33m)\u001b[0m\u001b[1;33m)\u001b[0m\u001b[1;33m\u001b[0m\u001b[1;33m\u001b[0m\u001b[0m\n\u001b[0m",
      "\u001b[1;31mAttributeError\u001b[0m: 'tuple' object has no attribute 'counter'"
     ]
    }
   ],
   "source": [
    "print(t.counter(4))"
   ]
  },
  {
   "cell_type": "markdown",
   "id": "c4849c39",
   "metadata": {},
   "source": [
    "### Question:\n",
    "Select the correct Python program to print the length of the tuple, t = (4, 5, 3, 4, 5, 2, 7, 2165, 58, 45)\n",
    "> **print(len(t))**  \n",
    "> print(length(t))  \n",
    "> print(t.len())  \n",
    "> Both 1 and 2  "
   ]
  },
  {
   "cell_type": "code",
   "execution_count": 36,
   "id": "2087b04b",
   "metadata": {},
   "outputs": [],
   "source": [
    "t = (4, 5, 3, 4, 5, 2, 7, 2165, 58, 45)"
   ]
  },
  {
   "cell_type": "code",
   "execution_count": 37,
   "id": "fc67fbd2",
   "metadata": {},
   "outputs": [
    {
     "name": "stdout",
     "output_type": "stream",
     "text": [
      "10\n"
     ]
    }
   ],
   "source": [
    "print(len(t))"
   ]
  },
  {
   "cell_type": "code",
   "execution_count": 38,
   "id": "07c02577",
   "metadata": {},
   "outputs": [
    {
     "ename": "NameError",
     "evalue": "name 'length' is not defined",
     "output_type": "error",
     "traceback": [
      "\u001b[1;31m---------------------------------------------------------------------------\u001b[0m",
      "\u001b[1;31mNameError\u001b[0m                                 Traceback (most recent call last)",
      "\u001b[1;32m~\\AppData\\Local\\Temp/ipykernel_16824/4226016476.py\u001b[0m in \u001b[0;36m<module>\u001b[1;34m\u001b[0m\n\u001b[1;32m----> 1\u001b[1;33m \u001b[0mprint\u001b[0m\u001b[1;33m(\u001b[0m\u001b[0mlength\u001b[0m\u001b[1;33m(\u001b[0m\u001b[0mt\u001b[0m\u001b[1;33m)\u001b[0m\u001b[1;33m)\u001b[0m\u001b[1;33m\u001b[0m\u001b[1;33m\u001b[0m\u001b[0m\n\u001b[0m",
      "\u001b[1;31mNameError\u001b[0m: name 'length' is not defined"
     ]
    }
   ],
   "source": [
    "print(length(t))"
   ]
  },
  {
   "cell_type": "code",
   "execution_count": 39,
   "id": "fb84b8e5",
   "metadata": {},
   "outputs": [
    {
     "ename": "AttributeError",
     "evalue": "'tuple' object has no attribute 'len'",
     "output_type": "error",
     "traceback": [
      "\u001b[1;31m---------------------------------------------------------------------------\u001b[0m",
      "\u001b[1;31mAttributeError\u001b[0m                            Traceback (most recent call last)",
      "\u001b[1;32m~\\AppData\\Local\\Temp/ipykernel_16824/152362232.py\u001b[0m in \u001b[0;36m<module>\u001b[1;34m\u001b[0m\n\u001b[1;32m----> 1\u001b[1;33m \u001b[0mprint\u001b[0m\u001b[1;33m(\u001b[0m\u001b[0mt\u001b[0m\u001b[1;33m.\u001b[0m\u001b[0mlen\u001b[0m\u001b[1;33m(\u001b[0m\u001b[1;33m)\u001b[0m\u001b[1;33m)\u001b[0m\u001b[1;33m\u001b[0m\u001b[1;33m\u001b[0m\u001b[0m\n\u001b[0m",
      "\u001b[1;31mAttributeError\u001b[0m: 'tuple' object has no attribute 'len'"
     ]
    }
   ],
   "source": [
    "print(t.len())"
   ]
  },
  {
   "cell_type": "markdown",
   "id": "8fa9cc3d",
   "metadata": {},
   "source": [
    "---\n",
    "## _Quiz 5 (22 Sep)_"
   ]
  },
  {
   "cell_type": "markdown",
   "id": "a67818f6",
   "metadata": {},
   "source": [
    "### Question:\n",
    "Which of the following statements create a dictionary?\n",
    "> d = {\"john\":40, \"peter\":45}  \n",
    "> d = {40:\"john\", 45:\"peter\"}  \n",
    "> d = {}  \n",
    "> **All of the above**  \n",
    "> None of the above"
   ]
  },
  {
   "cell_type": "code",
   "execution_count": 40,
   "id": "4e77dda0",
   "metadata": {},
   "outputs": [
    {
     "data": {
      "text/plain": [
       "{'john': 40, 'peter': 45}"
      ]
     },
     "execution_count": 40,
     "metadata": {},
     "output_type": "execute_result"
    }
   ],
   "source": [
    "d = {\"john\":40, \"peter\":45}\n",
    "d"
   ]
  },
  {
   "cell_type": "code",
   "execution_count": 41,
   "id": "922130a0",
   "metadata": {},
   "outputs": [
    {
     "data": {
      "text/plain": [
       "{40: 'john', 45: 'peter'}"
      ]
     },
     "execution_count": 41,
     "metadata": {},
     "output_type": "execute_result"
    }
   ],
   "source": [
    "d = {40:\"john\", 45:\"peter\"}\n",
    "d"
   ]
  },
  {
   "cell_type": "code",
   "execution_count": 42,
   "id": "29b2d1d8",
   "metadata": {},
   "outputs": [
    {
     "data": {
      "text/plain": [
       "{}"
      ]
     },
     "execution_count": 42,
     "metadata": {},
     "output_type": "execute_result"
    }
   ],
   "source": [
    "d = {}\n",
    "d"
   ]
  },
  {
   "cell_type": "markdown",
   "id": "872f3b1c",
   "metadata": {},
   "source": [
    "### Question:\n",
    "Suppose d = {\"john\":40, \"peter\":45}. To obtain the number of entries in the dictionary which command do we use?\n",
    "> d.len()   \n",
    "> **len(d)**  \n",
    "> size(d)  \n",
    "> d.size()  \n",
    "> Any of the above works"
   ]
  },
  {
   "cell_type": "code",
   "execution_count": 43,
   "id": "3c5ce20f",
   "metadata": {},
   "outputs": [],
   "source": [
    "d = {\"john\":40, \"peter\":45}"
   ]
  },
  {
   "cell_type": "code",
   "execution_count": 44,
   "id": "a76a56a0",
   "metadata": {},
   "outputs": [
    {
     "ename": "AttributeError",
     "evalue": "'dict' object has no attribute 'len'",
     "output_type": "error",
     "traceback": [
      "\u001b[1;31m---------------------------------------------------------------------------\u001b[0m",
      "\u001b[1;31mAttributeError\u001b[0m                            Traceback (most recent call last)",
      "\u001b[1;32m~\\AppData\\Local\\Temp/ipykernel_16824/582297937.py\u001b[0m in \u001b[0;36m<module>\u001b[1;34m\u001b[0m\n\u001b[1;32m----> 1\u001b[1;33m \u001b[0md\u001b[0m\u001b[1;33m.\u001b[0m\u001b[0mlen\u001b[0m\u001b[1;33m(\u001b[0m\u001b[1;33m)\u001b[0m\u001b[1;33m\u001b[0m\u001b[1;33m\u001b[0m\u001b[0m\n\u001b[0m",
      "\u001b[1;31mAttributeError\u001b[0m: 'dict' object has no attribute 'len'"
     ]
    }
   ],
   "source": [
    "d.len()"
   ]
  },
  {
   "cell_type": "code",
   "execution_count": 45,
   "id": "3b0d74f5",
   "metadata": {},
   "outputs": [
    {
     "data": {
      "text/plain": [
       "2"
      ]
     },
     "execution_count": 45,
     "metadata": {},
     "output_type": "execute_result"
    }
   ],
   "source": [
    "len(d)"
   ]
  },
  {
   "cell_type": "code",
   "execution_count": 46,
   "id": "6c0b0166",
   "metadata": {},
   "outputs": [
    {
     "ename": "NameError",
     "evalue": "name 'size' is not defined",
     "output_type": "error",
     "traceback": [
      "\u001b[1;31m---------------------------------------------------------------------------\u001b[0m",
      "\u001b[1;31mNameError\u001b[0m                                 Traceback (most recent call last)",
      "\u001b[1;32m~\\AppData\\Local\\Temp/ipykernel_16824/3782800272.py\u001b[0m in \u001b[0;36m<module>\u001b[1;34m\u001b[0m\n\u001b[1;32m----> 1\u001b[1;33m \u001b[0msize\u001b[0m\u001b[1;33m(\u001b[0m\u001b[0md\u001b[0m\u001b[1;33m)\u001b[0m\u001b[1;33m\u001b[0m\u001b[1;33m\u001b[0m\u001b[0m\n\u001b[0m",
      "\u001b[1;31mNameError\u001b[0m: name 'size' is not defined"
     ]
    }
   ],
   "source": [
    "size(d)"
   ]
  },
  {
   "cell_type": "code",
   "execution_count": 47,
   "id": "d5a7be45",
   "metadata": {},
   "outputs": [
    {
     "ename": "AttributeError",
     "evalue": "'dict' object has no attribute 'size'",
     "output_type": "error",
     "traceback": [
      "\u001b[1;31m---------------------------------------------------------------------------\u001b[0m",
      "\u001b[1;31mAttributeError\u001b[0m                            Traceback (most recent call last)",
      "\u001b[1;32m~\\AppData\\Local\\Temp/ipykernel_16824/2159830063.py\u001b[0m in \u001b[0;36m<module>\u001b[1;34m\u001b[0m\n\u001b[1;32m----> 1\u001b[1;33m \u001b[0md\u001b[0m\u001b[1;33m.\u001b[0m\u001b[0msize\u001b[0m\u001b[1;33m(\u001b[0m\u001b[1;33m)\u001b[0m\u001b[1;33m\u001b[0m\u001b[1;33m\u001b[0m\u001b[0m\n\u001b[0m",
      "\u001b[1;31mAttributeError\u001b[0m: 'dict' object has no attribute 'size'"
     ]
    }
   ],
   "source": [
    "d.size()"
   ]
  },
  {
   "cell_type": "markdown",
   "id": "86fe9d0f",
   "metadata": {},
   "source": [
    "---"
   ]
  }
 ],
 "metadata": {
  "kernelspec": {
   "display_name": "Python 3 (ipykernel)",
   "language": "python",
   "name": "python3"
  },
  "language_info": {
   "codemirror_mode": {
    "name": "ipython",
    "version": 3
   },
   "file_extension": ".py",
   "mimetype": "text/x-python",
   "name": "python",
   "nbconvert_exporter": "python",
   "pygments_lexer": "ipython3",
   "version": "3.9.1"
  }
 },
 "nbformat": 4,
 "nbformat_minor": 5
}
