{
 "cells": [
  {
   "cell_type": "markdown",
   "id": "ff6e1a7f",
   "metadata": {},
   "source": [
    "---\n",
    "# _Introduction to Python Basics for Data Science_\n",
    "## _Date: 25 Sep_\n",
    "---"
   ]
  },
  {
   "cell_type": "markdown",
   "id": "1f8a1657",
   "metadata": {},
   "source": [
    "### Q1. What will be the output of the following statement?\n",
    "```\n",
    "9 > 7 and 9 > 10\n",
    "```\n",
    "> a) True  \n",
    "> **b) False**"
   ]
  },
  {
   "cell_type": "code",
   "execution_count": 1,
   "id": "55b24502",
   "metadata": {},
   "outputs": [
    {
     "data": {
      "text/plain": [
       "False"
      ]
     },
     "execution_count": 1,
     "metadata": {},
     "output_type": "execute_result"
    }
   ],
   "source": [
    "9 > 7 and 9 > 10"
   ]
  },
  {
   "cell_type": "markdown",
   "id": "e392f97e",
   "metadata": {},
   "source": [
    "### Q2. Which built-in Python function is used to take user input?\n",
    "> a) print()  \n",
    "> b) **input()**  \n",
    "> c) import  \n",
    "> d) None of the above"
   ]
  },
  {
   "cell_type": "markdown",
   "id": "62fdbca5",
   "metadata": {},
   "source": [
    "### Q3. What is the result of the following code?\n",
    "```\n",
    "round(90.589, 1)\n",
    "```\n",
    "> a) 90.5  \n",
    "> b) 9  \n",
    "> c) **90.6**  \n",
    "> d) 90.59  "
   ]
  },
  {
   "cell_type": "code",
   "execution_count": 2,
   "id": "658857eb",
   "metadata": {},
   "outputs": [
    {
     "data": {
      "text/plain": [
       "90.6"
      ]
     },
     "execution_count": 2,
     "metadata": {},
     "output_type": "execute_result"
    }
   ],
   "source": [
    "round(90.589, 1)"
   ]
  },
  {
   "cell_type": "markdown",
   "id": "c3a69a30",
   "metadata": {},
   "source": [
    "### Q4. Which statement about functions is not correct?\n",
    "> a) We define functions to avoid duplicating code in our program.  \n",
    "> b) We can call a function several times in our program.  \n",
    "> c) We can use functions from other Python files in our program.  \n",
    "> d) **A function's output is always printed.**"
   ]
  },
  {
   "cell_type": "markdown",
   "id": "f679b232",
   "metadata": {},
   "source": [
    "### Q5. Given the variable overall_ratings. What is its data type?\n",
    "```\n",
    "overall_ratings = [95, 99, 93, 99, 97, 94, 85, 90, 98, 99]\n",
    "```\n",
    "> a) Integer  \n",
    "> b) String  \n",
    "> c) **List**  \n",
    "> d) Dictionary  "
   ]
  },
  {
   "cell_type": "code",
   "execution_count": 3,
   "id": "8ad506fc",
   "metadata": {},
   "outputs": [
    {
     "data": {
      "text/plain": [
       "list"
      ]
     },
     "execution_count": 3,
     "metadata": {},
     "output_type": "execute_result"
    }
   ],
   "source": [
    "overall_ratings = [95, 99, 93, 99, 97, 94, 85, 90, 98, 99]\n",
    "type(overall_ratings)"
   ]
  },
  {
   "cell_type": "markdown",
   "id": "c62b8113",
   "metadata": {},
   "source": [
    "### Q6. Choose the correct code to print the maximum number in overall_ratings.   \n",
    "> a) print(len(overall_ratings))  \n",
    "> b) print(min(overall_ratings))  \n",
    "> c) print(sum(overall_ratings))  \n",
    "> d) **print(max(overall_ratings))**"
   ]
  },
  {
   "cell_type": "code",
   "execution_count": 4,
   "id": "fa2c5b35",
   "metadata": {},
   "outputs": [
    {
     "name": "stdout",
     "output_type": "stream",
     "text": [
      "10\n"
     ]
    }
   ],
   "source": [
    "print(len(overall_ratings))"
   ]
  },
  {
   "cell_type": "code",
   "execution_count": 5,
   "id": "554912c6",
   "metadata": {},
   "outputs": [
    {
     "name": "stdout",
     "output_type": "stream",
     "text": [
      "85\n"
     ]
    }
   ],
   "source": [
    "print(min(overall_ratings))"
   ]
  },
  {
   "cell_type": "code",
   "execution_count": 6,
   "id": "d7a30f7d",
   "metadata": {},
   "outputs": [
    {
     "name": "stdout",
     "output_type": "stream",
     "text": [
      "949\n"
     ]
    }
   ],
   "source": [
    "print(sum(overall_ratings))"
   ]
  },
  {
   "cell_type": "code",
   "execution_count": 7,
   "id": "3e12b05b",
   "metadata": {},
   "outputs": [
    {
     "name": "stdout",
     "output_type": "stream",
     "text": [
      "99\n"
     ]
    }
   ],
   "source": [
    "print(max(overall_ratings))"
   ]
  },
  {
   "cell_type": "markdown",
   "id": "5b790c03",
   "metadata": {},
   "source": [
    "### Q7. Given the variable apartments. What is its data type? \n",
    "```\n",
    "apartments = [{'ID': '19665213.0', 'Overall Rating': '100.0', 'Price': 26.0},\n",
    "              {'ID': '6436842.0', 'Overall Rating': '90.0', 'Price': 41.0},\n",
    "              {'ID': '10559468.0', 'Overall Rating': '100.0', 'Price': 50.0},\n",
    "              {'ID': '27215482.0', 'Overall Rating': '100.0', 'Price': 50.0},\n",
    "              {'ID': '27287546.0', 'Overall Rating': '90.0', 'Price': 55.0}]\n",
    "```\n",
    "> a) Dictionary  \n",
    "> b) **List**  \n",
    "> c) Tuple  \n",
    "> d) Float"
   ]
  },
  {
   "cell_type": "code",
   "execution_count": 8,
   "id": "7d10a929",
   "metadata": {},
   "outputs": [
    {
     "data": {
      "text/plain": [
       "list"
      ]
     },
     "execution_count": 8,
     "metadata": {},
     "output_type": "execute_result"
    }
   ],
   "source": [
    "apartments = [{'ID': '19665213.0', 'Overall Rating': '100.0', 'Price': 26.0},\n",
    "              {'ID': '6436842.0', 'Overall Rating': '90.0', 'Price': 41.0},\n",
    "              {'ID': '10559468.0', 'Overall Rating': '100.0', 'Price': 50.0},\n",
    "              {'ID': '27215482.0', 'Overall Rating': '100.0', 'Price': 50.0},\n",
    "              {'ID': '27287546.0', 'Overall Rating': '90.0', 'Price': 55.0}]\n",
    "type(apartments)"
   ]
  },
  {
   "cell_type": "markdown",
   "id": "80a02d76",
   "metadata": {},
   "source": [
    "### Q8. Choose the correct code for finding the Overall Rating of the 4th apartment.\n",
    "```\n",
    "apartments = [{'ID': '19665213.0', 'Overall Rating': '100.0', 'Price': 26.0},\n",
    "              {'ID': '6436842.0', 'Overall Rating': '90.0', 'Price': 41.0},\n",
    "              {'ID': '10559468.0', 'Overall Rating': '100.0', 'Price': 50.0},\n",
    "              {'ID': '27215482.0', 'Overall Rating': '100.0', 'Price': 50.0},\n",
    "              {'ID': '27287546.0', 'Overall Rating': '90.0', 'Price': 55.0}]\n",
    "```\n",
    "> a) **apartments[3]['Overall Rating']**  \n",
    "> b) apartments[4]['Overall Rating']  \n",
    "> c) apartments['Overall Rating'][3]  \n",
    "> d) apartments['Overall Rating'][4]  "
   ]
  },
  {
   "cell_type": "code",
   "execution_count": 9,
   "id": "9764ae74",
   "metadata": {},
   "outputs": [
    {
     "data": {
      "text/plain": [
       "'100.0'"
      ]
     },
     "execution_count": 9,
     "metadata": {},
     "output_type": "execute_result"
    }
   ],
   "source": [
    "apartments[3]['Overall Rating']"
   ]
  },
  {
   "cell_type": "code",
   "execution_count": 10,
   "id": "ebd6ecba",
   "metadata": {},
   "outputs": [
    {
     "data": {
      "text/plain": [
       "'90.0'"
      ]
     },
     "execution_count": 10,
     "metadata": {},
     "output_type": "execute_result"
    }
   ],
   "source": [
    "apartments[4]['Overall Rating']"
   ]
  },
  {
   "cell_type": "code",
   "execution_count": 11,
   "id": "dc4bd244",
   "metadata": {},
   "outputs": [
    {
     "ename": "TypeError",
     "evalue": "list indices must be integers or slices, not str",
     "output_type": "error",
     "traceback": [
      "\u001b[1;31m---------------------------------------------------------------------------\u001b[0m",
      "\u001b[1;31mTypeError\u001b[0m                                 Traceback (most recent call last)",
      "\u001b[1;32m~\\AppData\\Local\\Temp/ipykernel_5772/257296455.py\u001b[0m in \u001b[0;36m<module>\u001b[1;34m\u001b[0m\n\u001b[1;32m----> 1\u001b[1;33m \u001b[0mapartments\u001b[0m\u001b[1;33m[\u001b[0m\u001b[1;34m'Overall Rating'\u001b[0m\u001b[1;33m]\u001b[0m\u001b[1;33m[\u001b[0m\u001b[1;36m3\u001b[0m\u001b[1;33m]\u001b[0m\u001b[1;33m\u001b[0m\u001b[1;33m\u001b[0m\u001b[0m\n\u001b[0m",
      "\u001b[1;31mTypeError\u001b[0m: list indices must be integers or slices, not str"
     ]
    }
   ],
   "source": [
    "apartments['Overall Rating'][3]"
   ]
  },
  {
   "cell_type": "code",
   "execution_count": 12,
   "id": "4f78f681",
   "metadata": {},
   "outputs": [
    {
     "ename": "TypeError",
     "evalue": "list indices must be integers or slices, not str",
     "output_type": "error",
     "traceback": [
      "\u001b[1;31m---------------------------------------------------------------------------\u001b[0m",
      "\u001b[1;31mTypeError\u001b[0m                                 Traceback (most recent call last)",
      "\u001b[1;32m~\\AppData\\Local\\Temp/ipykernel_5772/2707677801.py\u001b[0m in \u001b[0;36m<module>\u001b[1;34m\u001b[0m\n\u001b[1;32m----> 1\u001b[1;33m \u001b[0mapartments\u001b[0m\u001b[1;33m[\u001b[0m\u001b[1;34m'Overall Rating'\u001b[0m\u001b[1;33m]\u001b[0m\u001b[1;33m[\u001b[0m\u001b[1;36m4\u001b[0m\u001b[1;33m]\u001b[0m\u001b[1;33m\u001b[0m\u001b[1;33m\u001b[0m\u001b[0m\n\u001b[0m",
      "\u001b[1;31mTypeError\u001b[0m: list indices must be integers or slices, not str"
     ]
    }
   ],
   "source": [
    "apartments['Overall Rating'][4]"
   ]
  },
  {
   "cell_type": "markdown",
   "id": "b279c500",
   "metadata": {},
   "source": [
    "### Q9. Which statement about modules is not correct?\n",
    "> a) A module is a Python file.  \n",
    "> b) We use the statement: import module_name to have access to a certain module.  \n",
    "> c) **Any function defined in a module can be accessed by calling the function's name without referencing the module's name.**  \n",
    "> d) Modules help us keep our program tidy and clean.  "
   ]
  },
  {
   "cell_type": "markdown",
   "id": "df678765",
   "metadata": {},
   "source": [
    "### Q10. append() is:\n",
    "> a) Python method that applies to lists.  \n",
    "> b) Python method that applies to any object.  \n",
    "> c) **Built-in Python function that applies to lists.**  \n",
    "> d) Built-in Python function that applies to any object.  \n",
    "\n",
    "---"
   ]
  }
 ],
 "metadata": {
  "kernelspec": {
   "display_name": "Python 3 (ipykernel)",
   "language": "python",
   "name": "python3"
  },
  "language_info": {
   "codemirror_mode": {
    "name": "ipython",
    "version": 3
   },
   "file_extension": ".py",
   "mimetype": "text/x-python",
   "name": "python",
   "nbconvert_exporter": "python",
   "pygments_lexer": "ipython3",
   "version": "3.9.1"
  }
 },
 "nbformat": 4,
 "nbformat_minor": 5
}
